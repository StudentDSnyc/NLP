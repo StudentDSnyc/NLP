{
 "cells": [
  {
   "cell_type": "code",
   "execution_count": 3,
   "metadata": {
    "collapsed": true
   },
   "outputs": [],
   "source": [
    "import numpy as np\n",
    "from sklearn.datasets import fetch_20newsgroups"
   ]
  },
  {
   "cell_type": "code",
   "execution_count": 4,
   "metadata": {
    "collapsed": true
   },
   "outputs": [],
   "source": [
    "# Categories for text classification example\n",
    "categories = ['comp.graphics', 'sci.med', 'soc.religion.christian']"
   ]
  },
  {
   "cell_type": "code",
   "execution_count": 5,
   "metadata": {
    "collapsed": true
   },
   "outputs": [],
   "source": [
    "# Load list of files\n",
    "twenty_train = fetch_20newsgroups(subset='train', categories=categories,\n",
    "                                  shuffle=True, random_state=42)"
   ]
  },
  {
   "cell_type": "code",
   "execution_count": 9,
   "metadata": {
    "collapsed": false
   },
   "outputs": [
    {
     "name": "stdout",
     "output_type": "stream",
     "text": [
      "['description', 'DESCR', 'filenames', 'target_names', 'data', 'target']\n",
      "<type 'list'>\n",
      "<type 'numpy.ndarray'>\n",
      "<type 'list'>\n",
      "['comp.graphics', 'sci.med', 'soc.religion.christian']\n",
      "1777\n",
      "1777\n"
     ]
    }
   ],
   "source": [
    "# Properties of the dataset\n",
    "print twenty_train.keys()\n",
    "print type(twenty_train.data)\n",
    "print type(twenty_train.target)\n",
    "print type(twenty_train.target_names)\n",
    "print twenty_train.target_names\n",
    "print len(twenty_train.data)\n",
    "print len(twenty_train.target)"
   ]
  },
  {
   "cell_type": "code",
   "execution_count": 13,
   "metadata": {
    "collapsed": false
   },
   "outputs": [
    {
     "name": "stdout",
     "output_type": "stream",
     "text": [
      "From: tbrent@ecn.purdue.edu (Timothy J Brent)\n",
      "Subject: Am I going to Hell?\n",
      "Organization: Purdue University Engineering Computer Network\n",
      "Lines: 12\n",
      "\n",
      "I have stated before that I do not consider myself an atheist, but \n",
      "definitely do not believe in the christian god.  The recent discussion\n",
      "about atheists and hell, combined with a post to another group (to the\n",
      "effect of 'you will all go to hell') has me interested in the consensus \n",
      "as to how a god might judge men.  As a catholic, I was told that a jew,\n",
      "buddhist, etc. might go to heaven, but obviously some people do not\n",
      "believe this.  Even more see atheists and pagans (I assume I would be \n",
      "lumped into this category) to be hellbound.  I know you believe only\n",
      "god can judge, and I do not ask you to, just for your opinions.\n",
      "\n",
      "Thanks,\n",
      "-Tim\n",
      "\n",
      "2\n",
      "comp.graphics\n"
     ]
    }
   ],
   "source": [
    "print twenty_train.data[0]\n",
    "print twenty_train.target[0]\n",
    "print twenty_train.target_names[0]"
   ]
  },
  {
   "cell_type": "code",
   "execution_count": 26,
   "metadata": {
    "collapsed": true
   },
   "outputs": [],
   "source": [
    "# Function to evaluate cross validation\n",
    "from sklearn.cross_validation import cross_val_score, KFold\n",
    "from scipy.stats import sem\n",
    "\n",
    "def evaluate_cross_validation(clf, X, y, k):\n",
    "    # Create a k fold cross validation iterator of k=5 folds\n",
    "    cv = KFold(len(y), k, shuffle=True, random_state=15)\n",
    "    scores = cross_val_score(clf, X, y, cv=cv)\n",
    "    print scores\n",
    "    print 'Mean score: {0: 0.3f}(+/-{1: 0.3f})'.format(np.mean(scores), sem(scores))"
   ]
  },
  {
   "cell_type": "code",
   "execution_count": 27,
   "metadata": {
    "collapsed": true
   },
   "outputs": [],
   "source": [
    "# Naive Bayes Classifier\n",
    "from sklearn.naive_bayes import MultinomialNB\n",
    "from sklearn.pipeline import Pipeline\n",
    "from sklearn.feature_extraction.text import TfidfVectorizer, CountVectorizer"
   ]
  },
  {
   "cell_type": "code",
   "execution_count": 28,
   "metadata": {
    "collapsed": false
   },
   "outputs": [
    {
     "name": "stdout",
     "output_type": "stream",
     "text": [
      "[ 0.96910112  0.97191011  0.98873239  0.97183099  0.98028169]\n",
      "Mean score:  0.976(+/- 0.004)\n",
      "[ 0.95505618  0.92977528  0.96338028  0.94366197  0.97464789]\n",
      "Mean score:  0.953(+/- 0.008)\n"
     ]
    }
   ],
   "source": [
    "# Sequentially apply a list of transforms and a final estimator.\n",
    "clf_count = Pipeline([('vect', CountVectorizer()), ('clf', MultinomialNB())])\n",
    "clf_tfidf = Pipeline([('vect', TfidfVectorizer()), ('clf', MultinomialNB())])\n",
    "\n",
    "# List of classifiers\n",
    "clfs = [clf_count, clf_tfidf]\n",
    "\n",
    "for clf in clfs:\n",
    "    evaluate_cross_validation(clf, twenty_train.data, twenty_train.target, 5)"
   ]
  },
  {
   "cell_type": "code",
   "execution_count": null,
   "metadata": {
    "collapsed": true
   },
   "outputs": [],
   "source": [
    "# Train and predict\n",
    "def train_and_evaluate(clf, X_train, X_test, y_train, y_test):\n",
    "    clf.fit(X_train, y_train)\n",
    "    print \"Accuracy on training set:\"\n",
    "    print clf.score(X_train, y_train)\n",
    "    print \"Accuracy on testing set:\"\n",
    "    print clf.score(X_test, y_test)\n",
    "    \n",
    "    y_pred = clf.predict(X_test)\n",
    "    print \"Classification Report:\"\n",
    "    print metrics.classification_report(y_test, y_pred)\n",
    "    print \"Confusion Matrix:\"\n",
    "    print metrics.confusion_matrix(y_test, y_pred)\n",
    "    \n",
    "train_and_evaluate(clf_count, X_train, X_test, y_train, y_test)"
   ]
  }
 ],
 "metadata": {
  "kernelspec": {
   "display_name": "Python 2",
   "language": "python",
   "name": "python2"
  },
  "language_info": {
   "codemirror_mode": {
    "name": "ipython",
    "version": 2
   },
   "file_extension": ".py",
   "mimetype": "text/x-python",
   "name": "python",
   "nbconvert_exporter": "python",
   "pygments_lexer": "ipython2",
   "version": "2.7.11"
  }
 },
 "nbformat": 4,
 "nbformat_minor": 0
}
