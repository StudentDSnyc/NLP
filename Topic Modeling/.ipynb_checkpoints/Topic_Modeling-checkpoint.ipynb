{
 "cells": [
  {
   "cell_type": "markdown",
   "metadata": {},
   "source": [
    "#### Natural Language Processing (NLP) Vs Machine Learning (ML)\n",
    "- NLP broadly refers to the study and development of computer systems that can interpret speech and text as humans naturally speak and write (i.e. NLP is the study of making computers understand how humans naturally speak, write and communicate)\n",
    "- Human communication has inconsistencies - misspellings, abbreviations, slangs, idioms. These inconsistencies make things difficult for computers to understand how humans naturally speak, write and communicate\n",
    "- Modern techniques and approaches for NLP are based on **machine learning**\n",
    "- **Machine Learning** (in the context of text analytics) is a set of statistical techniques for identifying some aspect of text (part-of-speech, entities, sentiment, etc.) \n",
    "    - Supervised: Take a bunch of documents that have been “tagged” for some feature, like part-of-speech, entities, or topics (classifiers). Use these documents as a training set that produces a statistical model. Apply this model to new text to predict \"tags\"\n",
    "        - *Techniques*: Support Vector Machines, Naive Bayes, Decision Trees, Random Forest, Neural Networks, Maximum Entropy, Bayesian Networks, Conditional Random Field, etc.\n",
    "    - Unsupervised: Take a large set of documents and use statistical techniques to extract meaning.\n",
    "        - *Techniques*: Clustering, Latent Semantic Indexing, Matrix Factorization, etc."
   ]
  },
  {
   "cell_type": "markdown",
   "metadata": {},
   "source": [
    "**Bag-of-words model**\n",
    "- A simplifying document representation used in NLP and information retrieval. \n",
    "- Grammar and word order is disregarded.\n",
    "- Represents a document by the occurrence counts of each word\n",
    "\n",
    "Example:\n",
    "\n",
    "- $d_1$ = Jon uses swords. Jon likes Ygritte \n",
    "- $d_2$ = Oberyn uses spears and likes dagger\n",
    "- $d_3$ = Ygritte uses bow and arrow\n",
    "    \n",
    ">*Process the documents (lowercase strings, remove stopwords, etc.) and Create a vocabulary from documents*\n",
    "\n",
    "- Vocabulary = {jon, likes, swords, oberyn, uses, spears, and, dagger, ygritte, bow, arrow}  \n",
    "\n",
    ">*To get Bag-of-words: Count the number of times each word occurs in each document*\n",
    "\n",
    "![bow](images/bow.png)\n",
    "\n",
    "**Term Frequency** $tf_{t,d}$ of term $t$ in document $d$ is defined as the number of times $t$ occurs in $d$\n",
    "- Term Frequency measures how frequently a term occurs in a document\n",
    "- Normalized Term Frequency - Term Frequency count is normalized to prevent a bias towards longer document.\n",
    " $$tf_{t,d}=\\frac{\\text{Number of times term t appears in a document}}{\\text{Total number of terms in the document}}$$\n",
    "\n",
    "**Document Frequency**\n",
    "- Measures commonness, e.g. \"the\" is most common and \"imp\" is least common\n",
    "![df](images/df.png)\n",
    "\n",
    "**Inverse Document Frequency** - is a measure of how much information the word provides, i.e. whether the term is common or rare across all documents\n",
    "- Estimates the *rarity* of a term in the whole document collection\n",
    "- If a term occurs in all the documents of the collection, its IDF = 0\n",
    "- Inverse Document Frequency is given by:\n",
    "$$idf_t = log\\frac{N}{df_t}$$\n",
    "where: $N$ is the total number of documents in a collection. Log is used to dampen the effect of idf. *To avoid division-by-zero when the term is not in the corpus, 1 is added to $df_t$ in the denominator *\n",
    "![idf](images/idf.png)\n",
    "- idf of a rare term is likely to be high and idf of a frequent term is likely to be low\n",
    "\n",
    "**tf-idf Weighting**\n",
    "- tf-idf weight of a term $t$ is the product of its $tf$ weight and its $idf$ weight: tf-$idf_{t,d} = tf_{t,d}.idf_t$\n",
    "- tf-idf increases with the rarity of the term in the collection\n",
    "- High weight tf-idf is reached by high term frequency in a given document and a low document frequency of the term in the whole collection of documents\n",
    "- tf-$idf_{t,d}$ assigns to term $t$ a weight in document $d$ that is:\n",
    "    - Highest when $t$ occurs many times within a small number of documents\n",
    "    - Lower when the term occurs fewer times in a document, or occurs in many documents\n",
    "    - Lowest when the term occurs in virtually all documents\n",
    "\n",
    "---\n",
    "\n",
    "[Stanford IR Book](http://nlp.stanford.edu/IR-book/html/htmledition/irbook.html)  \n",
    "\n",
    "[TFIDF Blogpost](http://blog.christianperone.com/2011/09/machine-learning-text-feature-extraction-tf-idf-part-i/)"
   ]
  },
  {
   "cell_type": "markdown",
   "metadata": {},
   "source": [
    "# Topic Modeling\n",
    "Set of techniques that analyze the words in documents to discover the themes that run through them and annotate large archives of documents with thematic information. Often, the number of topics to be discovered is predefined. Topic modeling is a way of extrapolating backward from a collection of documents to infer the “topics” that could have generated them. \n",
    "\n",
    "- A topic model is a type of statistical model for discovering the abstract \"topics\" that occur in a collection of documents. Topic model types:\n",
    "    - Linear Algebra based\n",
    "    - Probabilistic Modeling based\n",
    "\n",
    "**Uses**\n",
    "- Exploring large text corpora (finding patterns)\n",
    "- Information retrieval: Finding documents matching a query\n",
    "- Clustering and similarity\n",
    "- Recommender systems (Collaborative filtering)\n",
    "- Pre-processing step before applying supervised learning methods\n",
    "\n",
    "### Models\n",
    "**TF-IDF**\n",
    "- Product of TF (term frequency in a document) and IDF (inverse document frequency of term in corpus)\n",
    "- Intuition: Give high weight to words that are topic-specific\n",
    "\n",
    "**Latent Semantic Analysis/Indexing (LSA/LSI)**\n",
    "![lsi](images/lsi.png)\n",
    "- Singular Value Decomposition (SVD) of the frequency/tf-idf matrix, followed by dimensionality reduction\n",
    "- Intuition: Denoise to extract latent factors/topics\n",
    "\n",
    "**LDA and HDP**\n",
    "- Latent Drichlet Allocation (LDA) - Probabilistic extension of Latent Semantic Analysis, i.e. pLSA. Generative probabilistic model, that assumes a Dirichlet prior over the latent topics\n",
    "- Hierarchical Dirichlet Process (HDP) - Nonparametric generalization of LDA (No more setting a fixed number of topics)\n",
    "- Intuition: Bayesian statistics\n",
    "\n",
    "**Word2Vec and Doc2Vec**\n",
    "- Word2Vec - Representing words as vectors (inspired by deep learning)\n",
    "\n",
    "\n",
    "--- \n",
    "Resources\n",
    "- https://www.lucypark.kr/courses/2015-ba/text-mining.html#2-tokenize\n",
    "- http://multithreaded.stitchfix.com/blog/2015/03/11/word-is-worth-a-thousand-vectors/\n",
    "- https://dato.com/learn/gallery/notebooks/sherlock_text_analytics.html\n",
    "- http://www.yseam.com/blog/WV.html\n",
    "- NNFM (Scikit-Learn): http://scikit-learn.org/stable/auto_examples/applications/topics_extraction_with_nmf_lda.html\n",
    "- http://derekgreene.com/notebooks/nmf_topic_modeling.py\n",
    "- http://derekgreene.com/nmf-topic/\n",
    "- http://tech.opentable.com/2015/01/12/finding-key-themes-from-free-text-reviews/\n",
    "- https://codesachin.wordpress.com/2015/10/09/generating-a-word2vec-model-from-a-block-of-text-using-gensim-python/\n",
    "- TFIDF LDA: http://gensim.narkive.com/QvcqFjyj/gensim-2588-poor-similarity-results-for-lda-and-hdp-vs-lsi-and-tf-idf\n",
    "- https://tedunderwood.com/2012/04/07/topic-modeling-made-just-simple-enough/\n"
   ]
  },
  {
   "cell_type": "markdown",
   "metadata": {},
   "source": [
    "### Latent Dirichlet Allocation (LDA)\n",
    "LDA is a generative statistical model (a model for randomly generating observable data values given some hidden parameters) that allows sets of observations to be explained by unobserved groups that explain why some parts of the data are similar.\n",
    "\n",
    "**LDA Assumption**\n",
    "- Topic distribution is assumed to have a [Dirichlet](https://en.wikipedia.org/wiki/Dirichlet_distribution) prior\n",
    "- Documents are generated randomly\n",
    "\n",
    "![topic](images/topic.png)\n",
    "- Every topic is a distribution (weighted list) over words: Topic is a distribution over a fixed vocabulary, **each topic contains each word from the dictionary (but some words have very low probability)**\n",
    "- Each word in the document is randomly selected from randomly selected topic from distribution of topics\n",
    "- Every document has a distribution over topics: Each document *exhibit multiple topics in different proportions*, i.e. **All the documents in the collection share the same set of topics**, but each document exhibits those topics in different proportions\n",
    "\n",
    "- Graph Model for LDA\n",
    "![graphicalModel](images/lda.png)\n",
    "\n",
    "- LDA is sensitive to corpus preprocessing and training parameters (stopword removal, number of training passes, number of topic produced)\n",
    "- LDA is useful when human interpretation/visualization of topics is needed\n",
    "- Probabilistic methods are less robust than vector-space methods"
   ]
  },
  {
   "cell_type": "markdown",
   "metadata": {},
   "source": [
    "### Idea behind LDA\n",
    "\n",
    "**Generating (writing) an article on \"Japanese Cuisine\"**\n",
    "\n",
    "Three elements are needed:\n",
    "- Words\n",
    "- Topics\n",
    "- Documents\n",
    "---\n",
    "\n",
    "1. What topics?\n",
    "    - Heavy draw from topics about: Fish, Rice, Miso, Ramen, etc.\n",
    "    - Weak draw from topics about: Milk, Cheese, Mexico, NASA, etc.\n",
    "2. Assign weight to topics\n",
    "![wts](images/wts.png)\n",
    "3. Pull words from topic bag-of-words and start writing (Each topic is a bag filled with words) until article is complete.\n",
    "    - Pulling words from topics bag-of-words according to topic weight to start writing, e.g. Reaching into Fish bag-of-words for 7% of words in the Japanese Cuisine article\n",
    "   \n",
    "> Result: Document about Japanese Cuisine\n",
    "\n",
    "**Importance of Generative Model** - Ability to work backwards. \n",
    "- If a non sensical document can be generated using generative model then it is possible to reverse the process and infer, given any new document and a topic model (already generated), what the topics are that the new document draws from.\n",
    "\n",
    "---\n",
    "\n",
    "> Need to identify underlying topics that organize collection of documents\n",
    "\n",
    "**Assumption**\n",
    "- Each document contains a mixture of topics\n",
    "- A topic can be understood as a collection of words that have different probabilities of appearance in passages discussing topics\n",
    "    - One topic may contain many occurances of \"salmon\", \"tuna\", \"cod\" and few occurances of \"milk\"\n",
    "    - Another topic may contain many occurances of \"milk\", \"cheese\", \"cow\" and few occurances of \"tuna\"\n",
    "    \n",
    "Suppose which topic produced every word in the collection is known except for one word $w$ in the document $d$. How to decide whether the occurance of $w$ belongs to topic $t$? Consider:\n",
    " 1. How often the word $w$ appear in topic $t$\n",
    "     - If \"NASA\" often occurs in topic \"Fish\" then \"NASA\" might belong to topic \"Fish\". A word can be common in more that one topic so it is not a good idea to assign \"NASA\" to topic about \"Fish\" if the document is about \"Space\"\n",
    " 2. How common is topic $t$ in the document \n",
    "    \n",
    "    \n",
    "$$P(t|w,d) = \\frac{\\text{# of word w in topic t} + \\beta_w}{\\text{total tokens in t}+\\beta}*(\\text{# of words in d that belong to t}+\\alpha)$$"
   ]
  },
  {
   "cell_type": "code",
   "execution_count": null,
   "metadata": {
    "collapsed": true
   },
   "outputs": [],
   "source": []
  },
  {
   "cell_type": "markdown",
   "metadata": {},
   "source": [
    "**Word2Vec**\n",
    "\n",
    "![vectors](images/vectors.gif)\n",
    "\n",
    "- [Pre-trained Word and Vector Data from Google](https://code.google.com/archive/p/word2vec/#Pre-trained_word_and_phrase_vectors)\n",
    "- [Doc2Vec Notebook](http://nbviewer.jupyter.org/github/fbkarsdorp/doc2vec/blob/master/doc2vec.ipynb)\n",
    "- [Blog on Word2Vec by StitchFix (Good References)](http://multithreaded.stitchfix.com/blog/2015/03/11/word-is-worth-a-thousand-vectors/)\n",
    "- [Word2Vec/Doc2Vec using Chinese Restaurant Process](http://eng.kifi.com/from-word2vec-to-doc2vec-an-approach-driven-by-chinese-restaurant-process/)\n",
    "- [GloVe Python](https://github.com/maciejkula/glove-python/)"
   ]
  },
  {
   "cell_type": "code",
   "execution_count": 1,
   "metadata": {
    "collapsed": true
   },
   "outputs": [],
   "source": [
    "# Import NLP Libraries\n",
    "from gensim import corpora, models\n",
    "import nltk"
   ]
  },
  {
   "cell_type": "markdown",
   "metadata": {},
   "source": [
    "## LDA (unigram)\n",
    "\n",
    "**Documents**"
   ]
  },
  {
   "cell_type": "code",
   "execution_count": 2,
   "metadata": {
    "collapsed": true
   },
   "outputs": [],
   "source": [
    "# Sample documents (Quotes from Game of Thrones T.V. Series)\n",
    "doc_0 = \"It is rare to meet a Lannister who share my enthusiasm for dead Lannisters.\"\n",
    "doc_1 = \"Arya Stark hasn't been seen since her father was killed. Where do you think she is? My money's on dead.\\\n",
    "         There's a certain safety in death, wouldn't you say?\"\n",
    "doc_2 = \"It's not easy being drunk all the time. If it were easy, everyone would do it.\"\n",
    "doc_3 = \"He would see this country burn if he could be king of the ashes.\"\n",
    "doc_4 = \"I will hurt you for this. A day will come when you think you are safe and happy, and your joy will turn to \\\n",
    "         ashes in your mouth. And you will know the debt is paid.\"\n",
    "doc_5 = \"All my life men like you have sneered at me. And all my life I've been knocking men like you into the dust.\"\n",
    "doc_6 = \"Power resides where men believe it resides. It's a trick, a shadow on the wall. And a very small man can \\\n",
    "         cast a very large shadow.\"\n",
    "doc_7 = \"It's the family name that lives on. It's all that lives on. Not your personal glory, not your honor...but family.\"\n",
    "doc_8 = \"I am a Khaleesi of the Dothraki. I am the wife of the great Khal and I carry his son inside me. The next time \\\n",
    "         you raise a hand to me will be the last time you have hands.\"\n",
    "doc_9 = \"Chaos isn't a pit. Chaos is a ladder. Many who try to climb it fail and never get to try again. \\\n",
    "         The fall breaks them. And some are given a chance to climb, they cling to the realm or the gods or love. \\\n",
    "         only the ladder is real. The climb is all there is.\""
   ]
  },
  {
   "cell_type": "code",
   "execution_count": 3,
   "metadata": {
    "collapsed": true
   },
   "outputs": [],
   "source": [
    "# Create a list of sample documents\n",
    "doc_list = [doc_0, doc_1, doc_2, doc_3, doc_4, doc_5, doc_6, doc_7, doc_8, doc_9]"
   ]
  },
  {
   "cell_type": "markdown",
   "metadata": {},
   "source": [
    "**Cleaning Documents**\n",
    "- Lower case\n",
    "- Tokenization\n",
    "- Removing stop words\n",
    "- Stemming"
   ]
  },
  {
   "cell_type": "code",
   "execution_count": 4,
   "metadata": {
    "collapsed": false
   },
   "outputs": [
    {
     "name": "stdout",
     "output_type": "stream",
     "text": [
      "arya stark hasn't been seen since her father was killed. where do you think she is? my money's on dead.         there's a certain safety in death, wouldn't you say?\n"
     ]
    }
   ],
   "source": [
    "# Lower Case\n",
    "print doc_1.lower()"
   ]
  },
  {
   "cell_type": "code",
   "execution_count": 5,
   "metadata": {
    "collapsed": false
   },
   "outputs": [
    {
     "name": "stdout",
     "output_type": "stream",
     "text": [
      "['arya', 'stark', 'hasn', 't', 'been', 'seen', 'since', 'her', 'father', 'was', 'killed', 'where', 'do', 'you', 'think', 'she', 'is', 'my', 'money', 's', 'on', 'dead', 'there', 's', 'a', 'certain', 'safety', 'in', 'death', 'wouldn', 't', 'you', 'say']\n"
     ]
    }
   ],
   "source": [
    "# Tokenization - NLTK\n",
    "tokenizer = nltk.tokenize.RegexpTokenizer(r'\\w+')\n",
    "print tokenizer.tokenize(doc_1.lower())"
   ]
  },
  {
   "cell_type": "code",
   "execution_count": 6,
   "metadata": {
    "collapsed": false
   },
   "outputs": [
    {
     "name": "stdout",
     "output_type": "stream",
     "text": [
      "['arya', 'stark', 'seen', 'since', 'father', 'killed', 'think', 'money', 'dead', 'certain', 'safety', 'death', 'say']\n"
     ]
    }
   ],
   "source": [
    "# Removing \"stop words\"\n",
    "from nltk.corpus import stopwords\n",
    "en_stopwords = stopwords.words('english')\n",
    "print [t for t in tokenizer.tokenize(doc_1.lower()) if t not in en_stopwords]"
   ]
  },
  {
   "cell_type": "code",
   "execution_count": 7,
   "metadata": {
    "collapsed": false
   },
   "outputs": [
    {
     "name": "stdout",
     "output_type": "stream",
     "text": [
      "[u'arya', u'stark', u'seen', u'sinc', u'father', u'kill', u'think', u'money', u'dead', u'certain', u'safeti', u'death', u'say']\n"
     ]
    }
   ],
   "source": [
    "# Stemming\n",
    "from nltk.stem.porter import PorterStemmer\n",
    "\n",
    "# Create a stemmer of class PorterStemmer\n",
    "stemmer = PorterStemmer()\n",
    "\n",
    "# Stem the tokens\n",
    "print [stemmer.stem(t) for t in [t for t in tokenizer.tokenize(doc_1.lower()) if t not in en_stopwords]]"
   ]
  },
  {
   "cell_type": "code",
   "execution_count": 8,
   "metadata": {
    "collapsed": false
   },
   "outputs": [
    {
     "name": "stdout",
     "output_type": "stream",
     "text": [
      "[[u'rare', u'meet', u'lannist', u'share', u'enthusiasm', u'dead', u'lannist'], [u'arya', u'stark', u'seen', u'sinc', u'father', u'kill', u'think', u'money', u'dead', u'certain', u'safeti', u'death', u'say'], [u'easi', u'drunk', u'time', u'easi', u'everyon', u'would'], [u'would', u'see', u'countri', u'burn', u'could', u'king', u'ash'], [u'hurt', u'day', u'come', u'think', u'safe', u'happi', u'joy', u'turn', u'ash', u'mouth', u'know', u'debt', u'paid'], [u'life', u'men', u'like', u'sneer', u'life', u'knock', u'men', u'like', u'dust'], [u'power', u'resid', u'men', u'believ', u'resid', u'trick', u'shadow', u'wall', u'small', u'man', u'cast', u'larg', u'shadow'], [u'famili', u'name', u'live', u'live', u'person', u'glori', u'honor', u'famili'], [u'khaleesi', u'dothraki', u'wife', u'great', u'khal', u'carri', u'son', u'insid', u'next', u'time', u'rais', u'hand', u'last', u'time', u'hand'], [u'chao', u'pit', u'chao', u'ladder', u'mani', u'tri', u'climb', u'fail', u'never', u'get', u'tri', u'fall', u'break', u'given', u'chanc', u'climb', u'cling', u'realm', u'god', u'love', u'ladder', u'real', u'climb']]\n"
     ]
    }
   ],
   "source": [
    "# Processing the documents\n",
    "\n",
    "texts = [] # List for storing cleaned document tokens\n",
    "\n",
    "for doc in doc_list:\n",
    "    # Lower case\n",
    "    raw_doc = doc.lower()\n",
    "    # Tokenize\n",
    "    tokens = tokenizer.tokenize(raw_doc)\n",
    "    # Remove stop words\n",
    "    tokens_remaining = [t for t in tokens if t not in en_stopwords]\n",
    "    # Stemmed tokens\n",
    "    stemmed_tokens = [stemmer.stem(t) for t in tokens_remaining]\n",
    "    # Add tokens to the list\n",
    "    texts.append(stemmed_tokens)\n",
    "    \n",
    "print texts"
   ]
  },
  {
   "cell_type": "markdown",
   "metadata": {},
   "source": [
    "**Create Document-Term Matrix**"
   ]
  },
  {
   "cell_type": "code",
   "execution_count": 10,
   "metadata": {
    "collapsed": false
   },
   "outputs": [
    {
     "name": "stdout",
     "output_type": "stream",
     "text": [
      "Dictionary(92 unique tokens: [u'money', u'kill', u'death', u'easi', u'father']...)\n",
      "{u'money': 8, u'kill': 13, u'death': 6, u'easi': 19, u'father': 9, u'carri': 67, u'enthusiasm': 3, u'real': 75, u'get': 78, u'safe': 30, u'break': 83, u'know': 36, u'fall': 85, u'shadow': 54, u'day': 39, u'like': 42, u'tri': 74, u'knock': 40, u'resid': 46, u'name': 57, u'dothraki': 68, u'small': 53, u'arya': 16, u'dead': 2, u'see': 26, u'fail': 86, u'safeti': 7, u'power': 47, u'god': 79, u'larg': 51, u'burn': 25, u'khaleesi': 63, u'insid': 64, u'joy': 29, u'men': 43, u'believ': 52, u'sneer': 44, u'debt': 37, u'come': 38, u'sinc': 11, u'great': 62, u'last': 72, u'would': 21, u'could': 24, u'turn': 33, u'countri': 27, u'climb': 88, u'honor': 61, u'chanc': 91, u'love': 87, u'drunk': 18, u'wall': 48, u'son': 69, u'famili': 56, u'lannist': 4, u'happi': 32, u'given': 76, u'ash': 28, u'khal': 65, u'stark': 10, u'next': 70, u'live': 59, u'life': 41, u'hurt': 34, u'rare': 0, u'king': 23, u'trick': 49, u'cast': 50, u'glori': 60, u'meet': 5, u'everyon': 20, u'certain': 14, u'share': 1, u'chao': 82, u'say': 12, u'seen': 15, u'pit': 90, u'realm': 77, u'cling': 84, u'ladder': 80, u'paid': 31, u'hand': 73, u'rais': 71, u'mouth': 35, u'never': 81, u'mani': 89, u'dust': 45, u'man': 55, u'wife': 66, u'think': 17, u'person': 58, u'time': 22}\n"
     ]
    }
   ],
   "source": [
    "# Create a dictionary using a list of lists\n",
    "dictionary = corpora.Dictionary(texts)\n",
    "print dictionary\n",
    "print dictionary.token2id"
   ]
  },
  {
   "cell_type": "code",
   "execution_count": 12,
   "metadata": {
    "collapsed": false
   },
   "outputs": [
    {
     "name": "stdout",
     "output_type": "stream",
     "text": [
      "[(0, 1), (1, 1), (2, 1), (3, 1), (4, 2), (5, 1)]\n"
     ]
    }
   ],
   "source": [
    "# Convert dictionary to bag-of-words\n",
    "bow = [dictionary.doc2bow(text) for text in texts]\n",
    "print bow[0] # Tuples are (term ID, term frequency)"
   ]
  },
  {
   "cell_type": "markdown",
   "metadata": {},
   "source": [
    "**Apply LDA Model**"
   ]
  },
  {
   "cell_type": "code",
   "execution_count": 13,
   "metadata": {
    "collapsed": true
   },
   "outputs": [],
   "source": [
    "lda_model = models.ldamodel.LdaModel(bow, num_topics = 5, id2word = dictionary, passes = 25)"
   ]
  },
  {
   "cell_type": "code",
   "execution_count": 19,
   "metadata": {
    "collapsed": false
   },
   "outputs": [
    {
     "name": "stdout",
     "output_type": "stream",
     "text": [
      "[(0, u'0.011*resid + 0.011*shadow + 0.011*man'), (1, u'0.090*easi + 0.049*would + 0.049*drunk'), (2, u'0.058*men + 0.040*life + 0.040*like'), (3, u'0.047*time + 0.047*hand + 0.026*ash'), (4, u'0.052*climb + 0.036*tri + 0.036*ladder')]\n"
     ]
    }
   ],
   "source": [
    "print lda_model.print_topics(num_topics = 5, num_words = 3)"
   ]
  },
  {
   "cell_type": "code",
   "execution_count": 20,
   "metadata": {
    "collapsed": false
   },
   "outputs": [
    {
     "name": "stdout",
     "output_type": "stream",
     "text": [
      "The most probable word in topic \"Topic Id\" with Probability \n",
      "\n",
      "Topic # 0\n",
      "Word: resid \t P: 0.0108722151826\n",
      "Word: shadow \t P: 0.01087130736\n",
      "Word: man \t P: 0.0108712665318\n",
      "Word: men \t P: 0.0108710463031\n",
      "Word: larg \t P: 0.0108709133041\n",
      "Word: power \t P: 0.0108708730862\n",
      "Word: small \t P: 0.0108705278926\n",
      "Word: wall \t P: 0.0108704816025\n",
      "Word: believ \t P: 0.0108703006188\n",
      "Word: trick \t P: 0.0108702816478\n",
      "\n",
      "Topic # 1\n",
      "Word: easi \t P: 0.0901570116189\n",
      "Word: would \t P: 0.0492453338611\n",
      "Word: drunk \t P: 0.0491762203198\n",
      "Word: everyon \t P: 0.0491762126206\n",
      "Word: time \t P: 0.0491555088433\n",
      "Word: ash \t P: 0.00819693015352\n",
      "Word: dead \t P: 0.00819691438544\n",
      "Word: countri \t P: 0.00819671602037\n",
      "Word: see \t P: 0.00819671529887\n",
      "Word: burn \t P: 0.00819671524935\n",
      "\n",
      "Topic # 2\n",
      "Word: men \t P: 0.0577619756655\n",
      "Word: life \t P: 0.0397115504282\n",
      "Word: like \t P: 0.0397115489245\n",
      "Word: live \t P: 0.0397114922533\n",
      "Word: famili \t P: 0.0397114900503\n",
      "Word: lannist \t P: 0.0397114075915\n",
      "Word: shadow \t P: 0.0397110215108\n",
      "Word: resid \t P: 0.0397107178706\n",
      "Word: knock \t P: 0.021660568958\n",
      "Word: sneer \t P: 0.0216605684721\n",
      "\n",
      "Topic # 3\n",
      "Word: time \t P: 0.0474232045567\n",
      "Word: hand \t P: 0.0474121559527\n",
      "Word: ash \t P: 0.0258766179678\n",
      "Word: think \t P: 0.0258659905408\n",
      "Word: dothraki \t P: 0.0258610169915\n",
      "Word: son \t P: 0.0258610166055\n",
      "Word: khal \t P: 0.0258610162854\n",
      "Word: great \t P: 0.0258610162249\n",
      "Word: carri \t P: 0.0258610162051\n",
      "Word: last \t P: 0.0258610160855\n",
      "\n",
      "Topic # 4\n",
      "Word: climb \t P: 0.0521196734073\n",
      "Word: tri \t P: 0.0358322148125\n",
      "Word: ladder \t P: 0.035832214102\n",
      "Word: chao \t P: 0.0358322139514\n",
      "Word: dead \t P: 0.0195486225536\n",
      "Word: god \t P: 0.0195447364352\n",
      "Word: break \t P: 0.0195447362757\n",
      "Word: real \t P: 0.0195447362035\n",
      "Word: mani \t P: 0.0195447361874\n",
      "Word: love \t P: 0.0195447361651\n",
      "\n"
     ]
    }
   ],
   "source": [
    "# Printing topic modeling result - Tuple (word, probability): The most probable words in topic \"topicid\" with probabiliity\n",
    "print 'The most probable word in topic \"Topic Id\" with Probability \\n'\n",
    "i = 0\n",
    "for topic in lda_model.show_topics(num_topics = 10, formatted = False):\n",
    "    print \"Topic # \" + str(i) + \"\\n\",\n",
    "    for word, prob in topic[1]:\n",
    "        print \"Word: {} \\t P: {}\".format(word, prob)\n",
    "    print \"\"\n",
    "    i += 1"
   ]
  },
  {
   "cell_type": "markdown",
   "metadata": {},
   "source": [
    "## LDA (bigram)\n",
    "**Documents**"
   ]
  },
  {
   "cell_type": "code",
   "execution_count": 28,
   "metadata": {
    "collapsed": true
   },
   "outputs": [],
   "source": [
    "# Sample documents (Quotes from Game of Thrones T.V. Series)\n",
    "doc_0 = \"It is rare to meet a Lannister who share my enthusiasm for dead Lannisters.\"\n",
    "doc_1 = \"Arya Stark hasn't been seen since her father was killed. Where do you think she is? My money's on dead.\\\n",
    "         There's a certain safety in death, wouldn't you say?\"\n",
    "doc_2 = \"It's not easy being drunk all the time. If it were easy, everyone would do it.\"\n",
    "doc_3 = \"He would see this country burn if he could be king of the ashes.\"\n",
    "doc_4 = \"I will hurt you for this. A day will come when you think you are safe and happy, and your joy will turn to \\\n",
    "         ashes in your mouth. And you will know the debt is paid.\"\n",
    "doc_5 = \"All my life men like you have sneered at me. And all my life I've been knocking men like you into the dust.\"\n",
    "doc_6 = \"Power resides where men believe it resides. It's a trick, a shadow on the wall. And a very small man can \\\n",
    "         cast a very large shadow.\"\n",
    "doc_7 = \"It's the family name that lives on. It's all that lives on. Not your personal glory, not your honor...but family.\"\n",
    "doc_8 = \"I am a Khaleesi of the Dothraki. I am the wife of the great Khal and I carry his son inside me. The next time \\\n",
    "         you raise a hand to me will be the last time you have hands.\"\n",
    "doc_9 = \"Chaos isn't a pit. Chaos is a ladder. Many who try to climb it fail and never get to try again. \\\n",
    "         The fall breaks them. And some are given a chance to climb, they cling to the realm or the gods or love. \\\n",
    "         only the ladder is real. The climb is all there is.\""
   ]
  },
  {
   "cell_type": "code",
   "execution_count": null,
   "metadata": {
    "collapsed": true
   },
   "outputs": [],
   "source": []
  },
  {
   "cell_type": "markdown",
   "metadata": {
    "collapsed": true
   },
   "source": [
    "### Word2Vec\n",
    "\n",
    "- Word2Vec attempts to associate words with points in space\n",
    "- Spatial distance between words then describes the relation (similarity) between these words\n",
    "- Words that are spatially close are similar\n",
    "- Words are represented by continuous vector over $x$ dimensions\n",
    "- Word2Vec is a very simple neural network with a single hidden layer\n",
    "![w2v](images/w2v.png)"
   ]
  },
  {
   "cell_type": "code",
   "execution_count": 6,
   "metadata": {
    "collapsed": true
   },
   "outputs": [],
   "source": [
    "%matplotlib inline\n",
    "\n",
    "import seaborn as sb\n",
    "import numpy as np\n",
    "import pandas as pd"
   ]
  },
  {
   "cell_type": "code",
   "execution_count": 4,
   "metadata": {
    "collapsed": false
   },
   "outputs": [
    {
     "name": "stdout",
     "output_type": "stream",
     "text": [
      "Displacement vector (the vector between 2 vectors) describes the relation between 2 words\n"
     ]
    },
    {
     "data": {
      "image/png": "[encoded data removed]",
      "text/plain": [
       "<matplotlib.figure.Figure at 0x119237250>"
      ]
     },
     "metadata": {},
     "output_type": "display_data"
    }
   ],
   "source": [
    "# 2 Dimensional Example\n",
    "words = ['queen', 'book', 'king', 'magazine', 'car', 'bike']\n",
    "vectors = np.array([[0.1, 0.3],    # queen\n",
    "                    [-0.5, -0.1],  # book\n",
    "                    [0.2, 0.2],    # king\n",
    "                    [-0.3, -0.2],  # magazine\n",
    "                    [-0.5, 0.4],   # car\n",
    "                    [-0.45, 0.3]]) # bike\n",
    "\n",
    "# Plot the vectors\n",
    "sb.plt.plot(vectors[:,0], vectors[:,1], 'o')\n",
    "sb.plt.xlim(-0.6, 0.3)\n",
    "sb.plt.ylim(-0.3, 0.5)\n",
    "for word, x, y in zip(words, vectors[:,0], vectors[:,1]):\n",
    "    sb.plt.annotate(word, (x, y), size = 12)\n",
    "    \n",
    "print 'Displacement vector (the vector between 2 vectors) describes the \\\n",
    "relation between 2 words'"
   ]
  },
  {
   "cell_type": "code",
   "execution_count": 7,
   "metadata": {
    "collapsed": false
   },
   "outputs": [
    {
     "data": {
      "text/plain": [
       "<matplotlib.text.Text at 0x1190ef790>"
      ]
     },
     "execution_count": 7,
     "metadata": {},
     "output_type": "execute_result"
    },
    {
     "data": {
      "image/png": "[encoded data removed]",
      "text/plain": [
       "<matplotlib.figure.Figure at 0x118b04f10>"
      ]
     },
     "metadata": {},
     "output_type": "display_data"
    }
   ],
   "source": [
    "# What is the probability of the following words given Cinderella, i.e. P(w|Cinderella)\n",
    "s = pd.Series([0.1, 0.4, 0.01, 0.2, 0.05],\n",
    "              index = ['pumpkin', 'shoe', 'tree', 'prince', 'luck'])\n",
    "\n",
    "s.plot(kind = 'bar')\n",
    "sb.plt.ylabel('$P(w|Cindrella)$')"
   ]
  },
  {
   "cell_type": "code",
   "execution_count": 8,
   "metadata": {
    "collapsed": true
   },
   "outputs": [],
   "source": [
    "# Softmax Regression\n",
    "sentences = ['the king loves the queen', 'the queen loves the king',\n",
    "             'the dwarf hates the king', 'the queen hates the dwarf',\n",
    "             'the dwarf poisons the king', 'the dwarf poisons the queen']"
   ]
  },
  {
   "cell_type": "code",
   "execution_count": 12,
   "metadata": {
    "collapsed": true
   },
   "outputs": [],
   "source": [
    "from collections import defaultdict\n",
    "\n",
    "# Function to create vocabulary (a dictionary)\n",
    "def Vocabulary():\n",
    "    dictionary = defaultdict()\n",
    "    dictionary.default_factory = lambda: len(dictionary)\n",
    "    return dictionary\n",
    "\n",
    "# Function to transform a list of strings into a list of lists\n",
    "# where each unique item is converted into a unique integer\n",
    "def docs2bow(docs, dictionary):\n",
    "    for doc in docs:\n",
    "        yield [dictionary[word] for word in doc.split()]"
   ]
  },
  {
   "cell_type": "code",
   "execution_count": 14,
   "metadata": {
    "collapsed": false
   },
   "outputs": [
    {
     "data": {
      "text/plain": [
       "[[0, 1, 2, 0, 3],\n",
       " [0, 3, 2, 0, 1],\n",
       " [0, 4, 5, 0, 1],\n",
       " [0, 3, 5, 0, 4],\n",
       " [0, 4, 6, 0, 1],\n",
       " [0, 4, 6, 0, 3]]"
      ]
     },
     "execution_count": 14,
     "metadata": {},
     "output_type": "execute_result"
    }
   ],
   "source": [
    "vocabulary = Vocabulary()\n",
    "sentences_bow = list(docs2bow(sentences, vocabulary))\n",
    "sentences_bow"
   ]
  },
  {
   "cell_type": "code",
   "execution_count": 24,
   "metadata": {
    "collapsed": false
   },
   "outputs": [],
   "source": [
    "# Construct the 2 matrices W and W'\n",
    "V, N = len(vocabulary), 3\n",
    "WI = (np.random.random((V, N)) - 0.5)/N\n",
    "WO = (np.random.random((N, V)) - 0.5)/V"
   ]
  },
  {
   "cell_type": "code",
   "execution_count": 25,
   "metadata": {
    "collapsed": false
   },
   "outputs": [
    {
     "name": "stdout",
     "output_type": "stream",
     "text": [
      "[[-0.01755287  0.00948371 -0.03769007]\n",
      " [ 0.14400452  0.07107485 -0.09754199]\n",
      " [-0.11083702 -0.16365717  0.16403924]\n",
      " [-0.15566368 -0.16157512 -0.02783417]\n",
      " [-0.14974128 -0.02036993 -0.13288651]\n",
      " [-0.05167142  0.03209973 -0.10499077]\n",
      " [ 0.04482381  0.03332321  0.03842618]]\n",
      "[[ 0.01939817  0.02451541 -0.05226995 -0.06998994 -0.06094672 -0.04398479\n",
      "  -0.01807224]\n",
      " [ 0.04687407 -0.00189492  0.03760058 -0.05221544 -0.01962851 -0.00782222\n",
      "   0.00963694]\n",
      " [ 0.00909789  0.01019005 -0.00968965  0.00420316 -0.04044071 -0.0204089\n",
      "   0.06419813]]\n"
     ]
    }
   ],
   "source": [
    "print WI\n",
    "print WO"
   ]
  },
  {
   "cell_type": "code",
   "execution_count": 26,
   "metadata": {
    "collapsed": false
   },
   "outputs": [
    {
     "name": "stdout",
     "output_type": "stream",
     "text": [
      "0.0094577441849\n"
     ]
    }
   ],
   "source": [
    "print np.dot(WI[vocabulary['dwarf']], WO.T[vocabulary['hates']])"
   ]
  },
  {
   "cell_type": "code",
   "execution_count": 27,
   "metadata": {
    "collapsed": false
   },
   "outputs": [
    {
     "name": "stdout",
     "output_type": "stream",
     "text": [
      "0.142857142857\n"
     ]
    }
   ],
   "source": [
    "p_hates_dwarf = (np.exp(np.dot(WI[vocabulary['dwarf']], WO.T[vocabulary['hates']]))/\n",
    "                sum(np.exp(np.dot(WI[vocabulary['dwarf']], WO.T[vocabulary['hates']]))\n",
    "                   for w in vocabulary))\n",
    "print p_hates_dwarf"
   ]
  },
  {
   "cell_type": "code",
   "execution_count": null,
   "metadata": {
    "collapsed": true
   },
   "outputs": [],
   "source": []
  },
  {
   "cell_type": "markdown",
   "metadata": {
    "collapsed": true
   },
   "source": [
    "### Non-negative Matrix Factorization (NMF)"
   ]
  },
  {
   "cell_type": "code",
   "execution_count": 23,
   "metadata": {
    "collapsed": true
   },
   "outputs": [],
   "source": [
    "from sklearn.feature_extraction.text import TfidfVectorizer, CountVectorizer\n",
    "from sklearn.decomposition import NMF\n",
    "import numpy as np"
   ]
  },
  {
   "cell_type": "code",
   "execution_count": 15,
   "metadata": {
    "collapsed": true
   },
   "outputs": [],
   "source": [
    "# Sample documents (Quotes from Game of Thrones T.V. Series)\n",
    "doc_0 = \"It is rare to meet a Lannister who share my enthusiasm for dead Lannisters.\"\n",
    "doc_1 = \"Arya Stark hasn't been seen since her father was killed. Where do you think she is? My money's on dead.\\\n",
    "         There's a certain safety in death, wouldn't you say?\"\n",
    "doc_2 = \"It's not easy being drunk all the time. If it were easy, everyone would do it.\"\n",
    "doc_3 = \"He would see this country burn if he could be king of the ashes.\"\n",
    "doc_4 = \"I will hurt you for this. A day will come when you think you are safe and happy, and your joy will turn to \\\n",
    "         ashes in your mouth. And you will know the debt is paid.\"\n",
    "doc_5 = \"All my life men like you have sneered at me. And all my life I've been knocking men like you into the dust.\"\n",
    "doc_6 = \"Power resides where men believe it resides. It's a trick, a shadow on the wall. And a very small man can \\\n",
    "         cast a very large shadow.\"\n",
    "doc_7 = \"It's the family name that lives on. It's all that lives on. Not your personal glory, not your honor...but family.\"\n",
    "doc_8 = \"I am a Khaleesi of the Dothraki. I am the wife of the great Khal and I carry his son inside me. The next time \\\n",
    "         you raise a hand to me will be the last time you have hands.\"\n",
    "doc_9 = \"Chaos isn't a pit. Chaos is a ladder. Many who try to climb it fail and never get to try again. \\\n",
    "         The fall breaks them. And some are given a chance to climb, they cling to the realm or the gods or love. \\\n",
    "         only the ladder is real. The climb is all there is.\""
   ]
  },
  {
   "cell_type": "code",
   "execution_count": 16,
   "metadata": {
    "collapsed": true
   },
   "outputs": [],
   "source": [
    "# Create a list of sample documents\n",
    "doc_list = [doc_0, doc_1, doc_2, doc_3, doc_4, doc_5, doc_6, doc_7, doc_8, doc_9]"
   ]
  },
  {
   "cell_type": "code",
   "execution_count": 20,
   "metadata": {
    "collapsed": true
   },
   "outputs": [],
   "source": [
    "# Perform vectorization \n",
    "tfidf_vectorizer = TfidfVectorizer(doc_list, stop_words='english')\n",
    "\n",
    "# Extract tf-idf features for NMF\n",
    "tfidf = tfidf_vectorizer.fit_transform(doc_list)"
   ]
  },
  {
   "cell_type": "code",
   "execution_count": 22,
   "metadata": {
    "collapsed": false
   },
   "outputs": [
    {
     "name": "stdout",
     "output_type": "stream",
     "text": [
      "[u'arya', u'ashes', u'believe', u'breaks', u'burn', u'carry', u'cast', u'certain', u'chance', u'chaos', u'climb', u'cling', u'come', u'country', u'day', u'dead', u'death', u'debt', u'dothraki', u'drunk', u'dust', u'easy', u'enthusiasm', u'fail', u'fall', u'family', u'father', u'given', u'glory', u'gods', u'great', u'hand', u'hands', u'happy', u'hasn', u'honor', u'hurt', u'inside', u'isn', u'joy', u'khal', u'khaleesi', u'killed', u'king', u'knocking', u'know', u'ladder', u'lannister', u'lannisters', u'large', u'life', u'like', u'lives', u'love', u'man', u'meet', u'men', u'money', u'mouth', u'paid', u'personal', u'pit', u'power', u'raise', u'rare', u'real', u'realm', u'resides', u'safe', u'safety', u'say', u'seen', u'shadow', u'share', u'small', u'sneered', u'son', u'stark', u'think', u'time', u'trick', u'try', u'turn', u've', u'wall', u'wife', u'wouldn']\n"
     ]
    }
   ],
   "source": [
    "# Vocabulary\n",
    "vocab = tfidf_vectorizer.get_feature_names()\n",
    "print vocab"
   ]
  },
  {
   "cell_type": "code",
   "execution_count": 24,
   "metadata": {
    "collapsed": true
   },
   "outputs": [],
   "source": [
    "# Fit the NMF model - Nonnegative Double Singular Value Decomposition initialization\n",
    "num_topics = 5\n",
    "nmf = NMF(n_components = num_topics, init = 'nndsvd')"
   ]
  },
  {
   "cell_type": "code",
   "execution_count": 25,
   "metadata": {
    "collapsed": true
   },
   "outputs": [],
   "source": [
    "# Document topic\n",
    "doc_topic = nmf.fit_transform(tfidf)"
   ]
  },
  {
   "cell_type": "code",
   "execution_count": 27,
   "metadata": {
    "collapsed": false
   },
   "outputs": [],
   "source": [
    "n_top_words = 10\n",
    "topic_words = []\n",
    "for topic in nmf.components_:\n",
    "    idx = np.argsort(topic)[::-1][0:n_top_words]\n",
    "    topic_words.append([vocab[i] for i in idx])"
   ]
  },
  {
   "cell_type": "code",
   "execution_count": 29,
   "metadata": {
    "collapsed": false
   },
   "outputs": [],
   "source": [
    "def print_top_words(model, feature_names, n_top_words):\n",
    "    for topic_idx, topic in enumerate(model.components_):\n",
    "        print(\"Topic #%d:\" % topic_idx)\n",
    "        print(\" \".join([feature_names[i]\n",
    "                        for i in topic.argsort()[:-n_top_words - 1:-1]]))\n",
    "    print()"
   ]
  },
  {
   "cell_type": "code",
   "execution_count": 30,
   "metadata": {
    "collapsed": false
   },
   "outputs": [
    {
     "name": "stdout",
     "output_type": "stream",
     "text": [
      "Topic #0:\n",
      "easy time drunk raise dothraki wife inside hands hand great\n",
      "Topic #1:\n",
      "ashes king burn country happy paid joy debt safe day\n",
      "Topic #2:\n",
      "men like life shadow resides sneered dust ve knocking believe\n",
      "Topic #3:\n",
      "dead enthusiasm lannister lannisters meet share rare wouldn say certain\n",
      "Topic #4:\n",
      "climb try ladder chaos isn pit given real realm love\n",
      "()\n"
     ]
    }
   ],
   "source": [
    "print_top_words(nmf, vocab, n_top_words)"
   ]
  },
  {
   "cell_type": "markdown",
   "metadata": {},
   "source": [
    "### Non-Negative Matrix Factorization\n",
    "\n",
    "[Differences](http://nbviewer.jupyter.org/github/dolaameng/tutorials/blob/master/topic-finding-for-short-texts/topics_for_short_texts.ipynb)"
   ]
  },
  {
   "cell_type": "markdown",
   "metadata": {},
   "source": [
    "### Simple K-Means Application"
   ]
  },
  {
   "cell_type": "code",
   "execution_count": null,
   "metadata": {
    "collapsed": true
   },
   "outputs": [],
   "source": [
    "# Imports\n",
    "from sklearn.feature_extraction.text import TfidfVectorizer\n",
    "from sklearn.cluster import KMeans\n",
    "\n",
    "# Sample documents (Quotes from Game of Thrones T.V. Series)\n",
    "doc_0 = \"It is rare to meet a Lannister who share my enthusiasm for dead Lannisters.\"\n",
    "doc_1 = \"Arya Stark hasn't been seen since her father was killed. Where do you think she is? My money's on dead.\\\n",
    "         There's a certain safety in death, wouldn't you say?\"\n",
    "doc_2 = \"It's not easy being drunk all the time. If it were easy, everyone would do it.\"\n",
    "doc_3 = \"He would see this country burn if he could be king of the ashes.\"\n",
    "doc_4 = \"I will hurt you for this. A day will come when you think you are safe and happy, and your joy will turn to \\\n",
    "         ashes in your mouth. And you will know the debt is paid.\"\n",
    "doc_5 = \"All my life men like you have sneered at me. And all my life I've been knocking men like you into the dust.\"\n",
    "doc_6 = \"Power resides where men believe it resides. It's a trick, a shadow on the wall. And a very small man can \\\n",
    "         cast a very large shadow.\"\n",
    "doc_7 = \"It's the family name that lives on. It's all that lives on. Not your personal glory, not your honor...but family.\"\n",
    "doc_8 = \"I am a Khaleesi of the Dothraki. I am the wife of the great Khal and I carry his son inside me. The next time \\\n",
    "         you raise a hand to me will be the last time you have hands.\"\n",
    "doc_9 = \"Chaos isn't a pit. Chaos is a ladder. Many who try to climb it fail and never get to try again. \\\n",
    "         The fall breaks them. And some are given a chance to climb, they cling to the realm or the gods or love. \\\n",
    "         only the ladder is real. The climb is all there is.\"\n",
    "\n",
    "# Create a list of sample documents\n",
    "doc_list = [doc_0, doc_1, doc_2, doc_3, doc_4, doc_5, doc_6, doc_7, doc_8, doc_9]\n",
    "\n",
    "# TFIDF vectorizer\n",
    "vectorizer = TfidfVectorizer(decode_error='replace', stop_words='english')\n",
    "\n",
    "# TFIDF fit and transform\n",
    "tfidf = vectorizer.fit_transform(doc_list)\n",
    "\n",
    "# KMeans model\n",
    "model = KMeans(n_clusters=3, init='k-means++', n_init=10, max_iter=100, precompute_distances='auto')\n",
    "\n",
    "# Fit model\n",
    "model.fit(tfidf)\n",
    "\n",
    "# Print top terms per cluster\n",
    "terms = vectorizer.get_feature_names()\n",
    "ordered_centroids = model.cluster_centers_.argsort()[:, ::-1]\n",
    "print \"Top 10 terms per cluster:\"\n",
    "for i in range(3):\n",
    "    print \"Cluster # {}\".format(i)\n",
    "    for idx in ordered_centroids[i, :10]:\n",
    "        print \"Terms: {}\".format(terms[idx])"
   ]
  },
  {
   "cell_type": "markdown",
   "metadata": {},
   "source": [
    "### Word2Vec"
   ]
  },
  {
   "cell_type": "code",
   "execution_count": 33,
   "metadata": {
    "collapsed": true
   },
   "outputs": [],
   "source": [
    "# Imports\n",
    "import gensim\n",
    "import string\n",
    "from nltk.tokenize import RegexpTokenizer\n",
    "from nltk import bigrams\n",
    "from nltk.corpus import stopwords\n",
    "import numpy as np\n",
    "from sklearn.cluster import KMeans"
   ]
  },
  {
   "cell_type": "code",
   "execution_count": 1,
   "metadata": {
    "collapsed": true
   },
   "outputs": [],
   "source": [
    "# Sample documents (Quotes from Game of Thrones T.V. Series)\n",
    "doc_0 = \"It is rare to meet a Lannister who share my enthusiasm for dead Lannisters.\"\n",
    "doc_1 = \"Arya Stark hasn't been seen since her father was killed. Where do you think she is? My money's on dead.\\\n",
    "         There's a certain safety in death, wouldn't you say?\"\n",
    "doc_2 = \"It's not easy being drunk all the time. If it were easy, everyone would do it.\"\n",
    "doc_3 = \"He would see this country burn if he could be king of the ashes.\"\n",
    "doc_4 = \"I will hurt you for this. A day will come when you think you are safe and happy, and your joy will turn to \\\n",
    "         ashes in your mouth. And you will know the debt is paid.\"\n",
    "doc_5 = \"All my life men like you have sneered at me. And all my life I've been knocking men like you into the dust.\"\n",
    "doc_6 = \"Power resides where men believe it resides. It's a trick, a shadow on the wall. And a very small man can \\\n",
    "         cast a very large shadow.\"\n",
    "doc_7 = \"It's the family name that lives on. It's all that lives on. Not your personal glory, not your honor...but family.\"\n",
    "doc_8 = \"I am a Khaleesi of the Dothraki. I am the wife of the great Khal and I carry his son inside me. The next time \\\n",
    "         you raise a hand to me will be the last time you have hands.\"\n",
    "doc_9 = \"Chaos isn't a pit. Chaos is a ladder. Many who try to climb it fail and never get to try again. \\\n",
    "         The fall breaks them. And some are given a chance to climb, they cling to the realm or the gods or love. \\\n",
    "         only the ladder is real. The climb is all there is.\"\n",
    "\n",
    "# Create a list of sample documents\n",
    "doc_list = [doc_0, doc_1, doc_2, doc_3, doc_4, doc_5, doc_6, doc_7, doc_8, doc_9]"
   ]
  },
  {
   "cell_type": "code",
   "execution_count": 5,
   "metadata": {
    "collapsed": false
   },
   "outputs": [],
   "source": [
    "# Function to clean text\n",
    "def clean_text(text):\n",
    "    '''\n",
    "    Function to clean text and modify string\n",
    "    Process: lowercase > remove punctuation > tokenize > stopword removal \n",
    "        Output: cleaned and modified text string\n",
    "    '''\n",
    "    # RegExp tokenizer\n",
    "    tokenizer = RegexpTokenizer(r'\\w+')\n",
    "    # English stopwords\n",
    "    en_stopwords = stopwords.words('english')\n",
    "    \n",
    "    # Convert text to lower case\n",
    "    raw_text = text.lower()\n",
    "    # Remove punctuations\n",
    "    raw_text_punct_removed = raw_text.translate(string.maketrans(\"\",\"\"), string.punctuation)\n",
    "    # Tokenize\n",
    "    tokens = tokenizer.tokenize(raw_text_punct_removed)\n",
    "    # Remove stopwords: English only\n",
    "    tokens_remaining = [t for t in tokens if t not in en_stopwords]    \n",
    "    return tokens_remaining\n",
    "\n",
    "# Clean the texts\n",
    "doc_clean = []\n",
    "for i in doc_list:\n",
    "    doc_clean.append(clean_text(i))"
   ]
  },
  {
   "cell_type": "code",
   "execution_count": 7,
   "metadata": {
    "collapsed": false
   },
   "outputs": [
    {
     "name": "stderr",
     "output_type": "stream",
     "text": [
      "WARNING:gensim.models.word2vec:consider setting layer size to a multiple of 4 for greater performance\n",
      "WARNING:gensim.models.word2vec:under 10 jobs per worker: consider setting a smaller `batch_words' for smoother alpha decay\n"
     ]
    }
   ],
   "source": [
    "# Train Word2Vec model\n",
    "model = gensim.models.Word2Vec(doc_clean, min_count=1, size=10)"
   ]
  },
  {
   "cell_type": "code",
   "execution_count": 21,
   "metadata": {
    "collapsed": false
   },
   "outputs": [
    {
     "name": "stdout",
     "output_type": "stream",
     "text": [
      "Most similar words to 'lannister':  [('arya', 0.6569440364837646), ('certain', 0.6248986721038818), ('dothraki', 0.5493209362030029), ('like', 0.523289680480957), ('wife', 0.5125791430473328), ('breaks', 0.49835172295570374), ('last', 0.47300979495048523), ('chaos', 0.4492312967777252), ('name', 0.4115704298019409), ('safety', 0.38567376136779785)]\n",
      "\n",
      "\n",
      "Word that doesn't match:  khal\n",
      "\n",
      "\n",
      "Word similarity:  -0.523537026102\n",
      "\n",
      "\n",
      "Raw Vector of a word:  [-0.03621156 -0.02768207 -0.02227548  0.00076247 -0.01228873 -0.03467362\n",
      "  0.03842506 -0.04867595  0.0058341   0.01725009]\n"
     ]
    }
   ],
   "source": [
    "# Most similar Words\n",
    "print \"Most similar words to 'lannister': \", model.most_similar('lannister')\n",
    "print '\\n'\n",
    "\n",
    "# Words that Doesn't Match\n",
    "print \"Word that doesn't match: \", model.doesnt_match(\"arya king khal lannister\".split())\n",
    "print '\\n'\n",
    "\n",
    "# Similarity\n",
    "print \"Word similarity: \", model.similarity('stark', 'lannister')\n",
    "print '\\n'\n",
    "\n",
    "# Raw Vector of a word\n",
    "print \"Raw Vector of a word: \", model['khal']"
   ]
  },
  {
   "cell_type": "code",
   "execution_count": 29,
   "metadata": {
    "collapsed": false
   },
   "outputs": [
    {
     "name": "stdout",
     "output_type": "stream",
     "text": [
      "Vocabulary: 99 words\n",
      "Word Vector length (# of features):  10\n"
     ]
    }
   ],
   "source": [
    "# Feature vector of each word in vocabulary\n",
    "print \"Vocabulary: {} words\".format(model.syn0.shape[0])\n",
    "print \"Word Vector length (# of features): \", model.syn0.shape[1]"
   ]
  },
  {
   "cell_type": "markdown",
   "metadata": {},
   "source": [
    "#### Vector averaging \n",
    "\n",
    "Take individual word vectors and transform them into a feature set that is the same length for each document or paragraph "
   ]
  },
  {
   "cell_type": "code",
   "execution_count": 31,
   "metadata": {
    "collapsed": true
   },
   "outputs": [],
   "source": [
    "def make_feature_vec(words, model, num_features):\n",
    "    '''\n",
    "    Function to average all of word vectors in a given paragraph\n",
    "    '''\n",
    "    # Pre-initialize an empty numpy array for speed\n",
    "    feature_vec = np.zeros((num_features,), dtype=\"float32\")\n",
    "    \n",
    "    n_words = 0\n",
    "    \n",
    "    # Index2word is a list that contains the name of words in models vocabulary\n",
    "    index2word_set = set(model.index2word) # Converting to set for speed\n",
    "    \n",
    "    # Loop over each word in document/paragraph, if it is in models vocabulary\n",
    "    # add its feature vector to the total\n",
    "    for word in words:\n",
    "        if word in index2word_set:\n",
    "            n_words = n_words + 1\n",
    "            feature_vec = np.add(feature_vec, n_words)\n",
    "            \n",
    "    # Divide the result by the number of words to get the average\n",
    "    feature_vec = np.divide(feature_vec, n_words)\n",
    "    return feature_vec\n",
    "    \n",
    "def average_feature_vecs(docs, model, num_features):\n",
    "    '''\n",
    "    Given a set of documents (each document is a list of words), calculate\n",
    "    the average feature vector for each one and return a numpy 2d array\n",
    "    '''\n",
    "    # Initialize a counter\n",
    "    counter = 0\n",
    "    \n",
    "    # Pre-initialize an empty 2D numpy array for speed\n",
    "    doc_feature_vecs = np.zeros((len(docs), num_features), dtype=\"float32\")\n",
    "    \n",
    "    # Loop through the documents and get average feature vec\n",
    "    for doc in docs:\n",
    "        # Call make feature vector function\n",
    "        doc_feature_vecs[counter] = make_feature_vec(doc, model, num_features)\n",
    "        # Increment the counter\n",
    "        counter = counter + 1\n",
    "    return doc_feature_vecs"
   ]
  },
  {
   "cell_type": "code",
   "execution_count": 37,
   "metadata": {
    "collapsed": false
   },
   "outputs": [
    {
     "name": "stdout",
     "output_type": "stream",
     "text": [
      "[[  4.    4.    4.    4.    4.    4.    4.    4.    4.    4. ]\n",
      " [  8.5   8.5   8.5   8.5   8.5   8.5   8.5   8.5   8.5   8.5]\n",
      " [  3.5   3.5   3.5   3.5   3.5   3.5   3.5   3.5   3.5   3.5]\n",
      " [  4.    4.    4.    4.    4.    4.    4.    4.    4.    4. ]\n",
      " [  7.    7.    7.    7.    7.    7.    7.    7.    7.    7. ]\n",
      " [  5.5   5.5   5.5   5.5   5.5   5.5   5.5   5.5   5.5   5.5]\n",
      " [  7.    7.    7.    7.    7.    7.    7.    7.    7.    7. ]\n",
      " [  4.5   4.5   4.5   4.5   4.5   4.5   4.5   4.5   4.5   4.5]\n",
      " [  8.    8.    8.    8.    8.    8.    8.    8.    8.    8. ]\n",
      " [ 12.5  12.5  12.5  12.5  12.5  12.5  12.5  12.5  12.5  12.5]]\n",
      "(10, 10)\n"
     ]
    }
   ],
   "source": [
    "# Get average feature vector\n",
    "doc_vecs = average_feature_vecs(doc_clean, model, 10)\n",
    "print doc_vecs\n",
    "print doc_vecs.shape"
   ]
  },
  {
   "cell_type": "code",
   "execution_count": 39,
   "metadata": {
    "collapsed": false
   },
   "outputs": [
    {
     "name": "stdout",
     "output_type": "stream",
     "text": [
      "Cluster: 0\n",
      "['isnt', 'personal', 'enthusiasm', 'safe', 'shadow', 'large', 'small', 'see', 'country', 'could', 'knocking', 'carry', 'raise', 'stark', 'next', 'lives', 'resides', 'glory', 'theres', 'ive', 'certain', 'say', 'seen', 'realm', 'hand', 'mouth', 'man']\n",
      "Cluster: 1\n",
      "['gods', 'fall', 'death', 'father', 'killed', 'real', 'know', 'hands', 'like', 'everyone', 'dead', 'try', 'since', 'burn', 'khaleesi', 'power', 'joy', 'men', 'debt', 'come', 'great', 'rare', 'khal', 'wouldnt', 'climb', 'think', 'love', 'family', 'son', 'happy', 'life', 'hurt', 'king', 'inside', 'trick', 'many', 'meet', 'pit', 'paid', 'dust', 'time']\n",
      "Cluster: 2\n",
      "['lannister', 'easy', 'get', 'breaks', 'day', 'name', 'dothraki', 'ashes', 'arya', 'honorbut', 'fail', 'chaos', 'safety', 'lannisters', 'turn', 'drunk', 'wall', 'given', 'would', 'moneys', 'last', 'believe', 'cast', 'share', 'hasnt', 'cling', 'ladder', 'chance', 'never', 'wife', 'sneered']\n"
     ]
    }
   ],
   "source": [
    "# Word vectors\n",
    "word_vectors = model.syn0\n",
    "\n",
    "# Initialize k-means object and extract centroids\n",
    "k_means_word2vec = KMeans(n_clusters=3)\n",
    "idx = k_means_word2vec.fit_predict(word_vectors)\n",
    "\n",
    "# Create a dictionary\n",
    "word_centroid_map = dict(zip(model.index2word, idx))\n",
    "\n",
    "#\n",
    "for cluster in range(0, 3):\n",
    "    print \"Cluster: {}\".format(cluster)\n",
    "    # Find all words in cluster i\n",
    "    words = []\n",
    "    for i in range(0, len(word_centroid_map.values())):\n",
    "        if word_centroid_map.values()[i] == cluster:\n",
    "            words.append(word_centroid_map.keys()[i])\n",
    "    print words"
   ]
  },
  {
   "cell_type": "markdown",
   "metadata": {},
   "source": [
    "#### Bag of Centroids"
   ]
  },
  {
   "cell_type": "code",
   "execution_count": null,
   "metadata": {
    "collapsed": true
   },
   "outputs": [],
   "source": []
  }
 ],
 "metadata": {
  "kernelspec": {
   "display_name": "Python 2",
   "language": "python",
   "name": "python2"
  },
  "language_info": {
   "codemirror_mode": {
    "name": "ipython",
    "version": 2
   },
   "file_extension": ".py",
   "mimetype": "text/x-python",
   "name": "python",
   "nbconvert_exporter": "python",
   "pygments_lexer": "ipython2",
   "version": "2.7.11"
  }
 },
 "nbformat": 4,
 "nbformat_minor": 0
}
