{
 "metadata": {
  "name": "",
  "signature": "sha256:fce3b1687be4a47cdd4618551e8fca482e061052c8cfc6c04e5c55845ef16193"
 },
 "nbformat": 3,
 "nbformat_minor": 0,
 "worksheets": [
  {
   "cells": [
    {
     "cell_type": "code",
     "collapsed": false,
     "input": [
      "import nltk\n",
      "import re"
     ],
     "language": "python",
     "metadata": {},
     "outputs": [],
     "prompt_number": 1
    },
    {
     "cell_type": "markdown",
     "metadata": {},
     "source": [
      "# Analyzing Sentence Structure"
     ]
    },
    {
     "cell_type": "code",
     "collapsed": false,
     "input": [
      "# Simple Context-Free Grammar\n",
      "grammar1 = nltk.CFG.fromstring(\"\"\"\n",
      "  S -> NP VP\n",
      "  VP -> V NP | V NP PP\n",
      "  PP -> P NP\n",
      "  V -> \"saw\" | \"ate\" | \"walked\"\n",
      "  NP -> \"John\" | \"Mary\" | \"Bob\" | Det N | Det N PP\n",
      "  Det -> \"a\" | \"an\" | \"the\" | \"my\"\n",
      "  N -> \"man\" | \"dog\" | \"cat\" | \"telescope\" | \"park\"\n",
      "  P -> \"in\" | \"on\" | \"by\" | \"with\"\n",
      "  \"\"\")"
     ],
     "language": "python",
     "metadata": {},
     "outputs": [],
     "prompt_number": 2
    },
    {
     "cell_type": "code",
     "collapsed": false,
     "input": [
      "sent = 'Mary saw Bob'.split()\n",
      "rd_parser = nltk.RecursiveDescentParser(grammar1)\n",
      "for tree in rd_parser.parse(sent):\n",
      "    print tree"
     ],
     "language": "python",
     "metadata": {},
     "outputs": [
      {
       "output_type": "stream",
       "stream": "stdout",
       "text": [
        "(S (NP Mary) (VP (V saw) (NP Bob)))\n"
       ]
      }
     ],
     "prompt_number": 3
    },
    {
     "cell_type": "markdown",
     "metadata": {},
     "source": [
      "**<font color = 'blue'>nltk.RecursiveDescentParser(grammar)</font>** - Entity"
     ]
    },
    {
     "cell_type": "code",
     "collapsed": false,
     "input": [
      "nltk.app.rdparser()"
     ],
     "language": "python",
     "metadata": {},
     "outputs": [],
     "prompt_number": 4
    },
    {
     "cell_type": "markdown",
     "metadata": {},
     "source": [
      "**Writing Your Own Grammars** - Create and edit your grammar in text file, e.g. ```myGrammar.cfg```"
     ]
    },
    {
     "cell_type": "code",
     "collapsed": false,
     "input": [
      "grammar1 = nltk.data.load('file:mygrammar.cfg')\n",
      "sent = \"Mary saw Bob\".split()\n",
      "rd_parser = nltk.RecursiveDescentParser(grammar1)\n",
      "for tree in rd_parser.parse(sent):\n",
      "    print(tree)"
     ],
     "language": "python",
     "metadata": {},
     "outputs": [],
     "prompt_number": 7
    },
    {
     "cell_type": "markdown",
     "metadata": {},
     "source": [
      "### Recursive Descent Parsing"
     ]
    },
    {
     "cell_type": "code",
     "collapsed": false,
     "input": [
      "sent = 'Mary saw a dog'.split()\n",
      "rd_parser = nltk.RecursiveDescentParser(grammar1, trace = 0)\n",
      "for tree in rd_parser.parse(sent):\n",
      "    print tree"
     ],
     "language": "python",
     "metadata": {},
     "outputs": [
      {
       "output_type": "stream",
       "stream": "stdout",
       "text": [
        "(S (NP Mary) (VP (V saw) (NP (Det a) (N dog))))\n"
       ]
      }
     ],
     "prompt_number": 9
    },
    {
     "cell_type": "markdown",
     "metadata": {},
     "source": [
      "### Shift Reduce Parsing"
     ]
    },
    {
     "cell_type": "code",
     "collapsed": false,
     "input": [
      "sr_parser = nltk.ShiftReduceParser(grammar1, trace = 2)\n",
      "sent = 'Mary saw a dog'.split()\n",
      "for tree in sr_parser.parse(sent):\n",
      "    print tree"
     ],
     "language": "python",
     "metadata": {},
     "outputs": [
      {
       "output_type": "stream",
       "stream": "stdout",
       "text": [
        "Parsing u'Mary saw a dog'\n",
        "    [ * Mary saw a dog]\n",
        "  S [ 'Mary' * saw a dog]\n",
        "  R [ NP * saw a dog]\n",
        "  S [ NP 'saw' * a dog]\n",
        "  R [ NP V * a dog]\n",
        "  S [ NP V 'a' * dog]\n",
        "  R [ NP V Det * dog]\n",
        "  S [ NP V Det 'dog' * ]\n",
        "  R [ NP V Det N * ]\n",
        "  R [ NP V NP * ]\n",
        "  R [ NP VP * ]\n",
        "  R [ S * ]\n",
        "(S (NP Mary) (VP (V saw) (NP (Det a) (N dog))))\n"
       ]
      }
     ],
     "prompt_number": 11
    },
    {
     "cell_type": "code",
     "collapsed": false,
     "input": [],
     "language": "python",
     "metadata": {},
     "outputs": []
    }
   ],
   "metadata": {}
  }
 ]
}