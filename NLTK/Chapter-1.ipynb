{
 "metadata": {
  "name": "",
  "signature": "sha256:54dcd2bc5413231dd1821e7c415d7d305c433f281a074409c82d4a97b59a960f"
 },
 "nbformat": 3,
 "nbformat_minor": 0,
 "worksheets": [
  {
   "cells": [
    {
     "cell_type": "markdown",
     "metadata": {},
     "source": [
      "**Importing NLTK**"
     ]
    },
    {
     "cell_type": "code",
     "collapsed": false,
     "input": [
      "import nltk"
     ],
     "language": "python",
     "metadata": {},
     "outputs": [],
     "prompt_number": 1
    },
    {
     "cell_type": "markdown",
     "metadata": {},
     "source": [
      "**Download Data**"
     ]
    },
    {
     "cell_type": "code",
     "collapsed": false,
     "input": [],
     "language": "python",
     "metadata": {},
     "outputs": []
    },
    {
     "cell_type": "code",
     "collapsed": false,
     "input": [
      "nltk.download()"
     ],
     "language": "python",
     "metadata": {},
     "outputs": [
      {
       "output_type": "stream",
       "stream": "stdout",
       "text": [
        "showing info http://www.nltk.org/nltk_data/\n"
       ]
      },
      {
       "metadata": {},
       "output_type": "pyout",
       "prompt_number": 2,
       "text": [
        "True"
       ]
      }
     ],
     "prompt_number": 2
    },
    {
     "cell_type": "markdown",
     "metadata": {},
     "source": [
      "**From NLTK's Book module load all items**"
     ]
    },
    {
     "cell_type": "code",
     "collapsed": false,
     "input": [
      "from nltk.book import *"
     ],
     "language": "python",
     "metadata": {},
     "outputs": [
      {
       "output_type": "stream",
       "stream": "stdout",
       "text": [
        "*** Introductory Examples for the NLTK Book ***\n",
        "Loading text1, ..., text9 and sent1, ..., sent9\n",
        "Type the name of the text or sentence to view it.\n",
        "Type: 'texts()' or 'sents()' to list the materials.\n",
        "text1:"
       ]
      },
      {
       "output_type": "stream",
       "stream": "stdout",
       "text": [
        " Moby Dick by Herman Melville 1851\n",
        "text2:"
       ]
      },
      {
       "output_type": "stream",
       "stream": "stdout",
       "text": [
        " Sense and Sensibility by Jane Austen 1811\n",
        "text3:"
       ]
      },
      {
       "output_type": "stream",
       "stream": "stdout",
       "text": [
        " The Book of Genesis\n",
        "text4:"
       ]
      },
      {
       "output_type": "stream",
       "stream": "stdout",
       "text": [
        " Inaugural Address Corpus\n",
        "text5:"
       ]
      },
      {
       "output_type": "stream",
       "stream": "stdout",
       "text": [
        " Chat Corpus\n",
        "text6:"
       ]
      },
      {
       "output_type": "stream",
       "stream": "stdout",
       "text": [
        " Monty Python and the Holy Grail\n",
        "text7:"
       ]
      },
      {
       "output_type": "stream",
       "stream": "stdout",
       "text": [
        " Wall Street Journal\n",
        "text8: Personals Corpus\n",
        "text9:"
       ]
      },
      {
       "output_type": "stream",
       "stream": "stdout",
       "text": [
        " The Man Who Was Thursday by G . K . Chesterton 1908\n"
       ]
      }
     ],
     "prompt_number": 3
    },
    {
     "cell_type": "code",
     "collapsed": false,
     "input": [
      "text1"
     ],
     "language": "python",
     "metadata": {},
     "outputs": [
      {
       "metadata": {},
       "output_type": "pyout",
       "prompt_number": 4,
       "text": [
        "<Text: Moby Dick by Herman Melville 1851>"
       ]
      }
     ],
     "prompt_number": 4
    },
    {
     "cell_type": "markdown",
     "metadata": {},
     "source": [
      "**Method: .concordance(\"word\")** - Returns every occurrence of a given word in context"
     ]
    },
    {
     "cell_type": "code",
     "collapsed": false,
     "input": [
      "text1.concordance(\"rummaged\")"
     ],
     "language": "python",
     "metadata": {},
     "outputs": [
      {
       "output_type": "stream",
       "stream": "stdout",
       "text": [
        "Displaying 1 of 1 matches:\n",
        "What other marvels might have been rummaged out of this monstrous cabinet ther\n"
       ]
      }
     ],
     "prompt_number": 5
    },
    {
     "cell_type": "markdown",
     "metadata": {},
     "source": [
      "**Method: .similar(\"word\")** -  Returns words that appear in a similar range of contexts given a word"
     ]
    },
    {
     "cell_type": "code",
     "collapsed": false,
     "input": [
      "text1.similar(\"monstrous\")"
     ],
     "language": "python",
     "metadata": {},
     "outputs": [
      {
       "output_type": "stream",
       "stream": "stdout",
       "text": [
        "imperial subtly impalpable pitiable curious abundant perilous\n",
        "trustworthy untoward singular lamentable few determined maddens\n",
        "horrible tyrannical lazy mystifying christian exasperate\n"
       ]
      }
     ],
     "prompt_number": 6
    },
    {
     "cell_type": "code",
     "collapsed": false,
     "input": [
      "text2.similar(\"monstrous\")"
     ],
     "language": "python",
     "metadata": {},
     "outputs": [
      {
       "output_type": "stream",
       "stream": "stdout",
       "text": [
        "very exceedingly so heartily a great good amazingly as sweet\n",
        "remarkably extremely vast\n"
       ]
      }
     ],
     "prompt_number": 7
    },
    {
     "cell_type": "markdown",
     "metadata": {},
     "source": [
      "**Method: .common_contexts([\"word-1\", \"word-2\"])** -  Allows to examine just the contexts that are shared by two or more words"
     ]
    },
    {
     "cell_type": "code",
     "collapsed": false,
     "input": [
      "text1.common_contexts([\"imperial\", \"loving\"])"
     ],
     "language": "python",
     "metadata": {},
     "outputs": [
      {
       "output_type": "stream",
       "stream": "stdout",
       "text": [
        "most_and\n"
       ]
      }
     ],
     "prompt_number": 8
    },
    {
     "cell_type": "markdown",
     "metadata": {},
     "source": [
      "**Method: .dispersion_plot([\"word-1\", \"word-2\", ..., \"word-n\"])** - Plots the location of  a given word(s) in the text"
     ]
    },
    {
     "cell_type": "code",
     "collapsed": false,
     "input": [
      "text1.dispersion_plot([\"monstrous\", \"whale\", \"sea\", \"ocean\"])"
     ],
     "language": "python",
     "metadata": {},
     "outputs": [],
     "prompt_number": 9
    },
    {
     "cell_type": "markdown",
     "metadata": {},
     "source": [
      "#### Counting Vocabulary  \n",
      "Length of a text from start to finish, in terms of words and punctuation symbols."
     ]
    },
    {
     "cell_type": "code",
     "collapsed": false,
     "input": [
      "print len(text1)"
     ],
     "language": "python",
     "metadata": {},
     "outputs": [
      {
       "output_type": "stream",
       "stream": "stdout",
       "text": [
        "260819\n"
       ]
      }
     ],
     "prompt_number": 10
    },
    {
     "cell_type": "markdown",
     "metadata": {},
     "source": [
      "A **token** is the technical name for a sequence of characters (words and punctuation symbols). Moby Dick (text1) has 260819 tokens.  \n",
      "\n",
      "The vocabulary of a text is just the **set** of tokens. All duplicates are collapsed together. A unique item of vocabulary is called a **type**"
     ]
    },
    {
     "cell_type": "code",
     "collapsed": false,
     "input": [
      "vocabulary = sorted(set(text1)) # Sorting a \"list\" in ascending order\n",
      "print len(vocabulary)"
     ],
     "language": "python",
     "metadata": {},
     "outputs": [
      {
       "output_type": "stream",
       "stream": "stdout",
       "text": [
        "19317\n"
       ]
      }
     ],
     "prompt_number": 11
    },
    {
     "cell_type": "markdown",
     "metadata": {},
     "source": [
      "**Lexical Diversity** - Measure of lexical richness of the text. \n",
      "\n",
      "\n",
      "Lexical Diversity = $\\frac{Vocabulary Length}{Text Length}$"
     ]
    },
    {
     "cell_type": "code",
     "collapsed": false,
     "input": [
      "LD = len(set(text1))/float(len(text1))\n",
      "print \"Lexical Diversity of text1 is %0.3f or %0.3f percent\" %(LD, LD * 100)"
     ],
     "language": "python",
     "metadata": {},
     "outputs": [
      {
       "output_type": "stream",
       "stream": "stdout",
       "text": [
        "Lexical Diversity of text1 is 0.074 or 7.406 percent\n"
       ]
      }
     ],
     "prompt_number": 12
    },
    {
     "cell_type": "markdown",
     "metadata": {},
     "source": [
      "**Method: .count(\"word\")** - Count how often a word occurs in a text"
     ]
    },
    {
     "cell_type": "code",
     "collapsed": false,
     "input": [
      "text1.count(\"whale\")"
     ],
     "language": "python",
     "metadata": {},
     "outputs": [
      {
       "metadata": {},
       "output_type": "pyout",
       "prompt_number": 13,
       "text": [
        "906"
       ]
      }
     ],
     "prompt_number": 13
    },
    {
     "cell_type": "markdown",
     "metadata": {},
     "source": [
      "####List Operations  \n",
      "Combining lists together"
     ]
    },
    {
     "cell_type": "code",
     "collapsed": false,
     "input": [
      "sent = ['Monty', 'Python'] + ['and', 'the', 'Holy', 'Grail']\n",
      "print sent"
     ],
     "language": "python",
     "metadata": {},
     "outputs": [
      {
       "output_type": "stream",
       "stream": "stdout",
       "text": [
        "['Monty', 'Python', 'and', 'the', 'Holy', 'Grail']\n"
       ]
      }
     ],
     "prompt_number": 105
    },
    {
     "cell_type": "markdown",
     "metadata": {},
     "source": [
      "Appending: Adding a single item to a list"
     ]
    },
    {
     "cell_type": "code",
     "collapsed": false,
     "input": [
      "sent.append('!')\n",
      "print sent"
     ],
     "language": "python",
     "metadata": {},
     "outputs": [
      {
       "output_type": "stream",
       "stream": "stdout",
       "text": [
        "['Monty', 'Python', 'and', 'the', 'Holy', 'Grail', '!']\n"
       ]
      }
     ],
     "prompt_number": 15
    },
    {
     "cell_type": "markdown",
     "metadata": {},
     "source": [
      "List Index"
     ]
    },
    {
     "cell_type": "code",
     "collapsed": false,
     "input": [
      "print sent[1]\n",
      "print sent.index(\"Python\")\n",
      "print sent[1:5]\n",
      "print sent[-3:]"
     ],
     "language": "python",
     "metadata": {},
     "outputs": [
      {
       "output_type": "stream",
       "stream": "stdout",
       "text": [
        "Python\n",
        "1\n",
        "['Python', 'and', 'the', 'Holy']\n",
        "['Holy', 'Grail', '!']\n"
       ]
      }
     ],
     "prompt_number": 16
    },
    {
     "cell_type": "markdown",
     "metadata": {},
     "source": [
      "#### String Operations\n",
      "\n",
      "String Index"
     ]
    },
    {
     "cell_type": "code",
     "collapsed": false,
     "input": [
      "string = \"Monty Python\"\n",
      "print string[0:2]\n",
      "print string * 2\n",
      "print string + '!'"
     ],
     "language": "python",
     "metadata": {},
     "outputs": [
      {
       "output_type": "stream",
       "stream": "stdout",
       "text": [
        "Mo\n",
        "Monty PythonMonty Python\n",
        "Monty Python!\n"
       ]
      }
     ],
     "prompt_number": 17
    },
    {
     "cell_type": "markdown",
     "metadata": {},
     "source": [
      "**Join** words in a list to make a single string"
     ]
    },
    {
     "cell_type": "code",
     "collapsed": false,
     "input": [
      "' '.join(['Monty', 'Python', 'and', 'the', 'Holy', 'Grail'])"
     ],
     "language": "python",
     "metadata": {},
     "outputs": [
      {
       "metadata": {},
       "output_type": "pyout",
       "prompt_number": 18,
       "text": [
        "'Monty Python and the Holy Grail'"
       ]
      }
     ],
     "prompt_number": 18
    },
    {
     "cell_type": "markdown",
     "metadata": {},
     "source": [
      "**Split** a string into a list"
     ]
    },
    {
     "cell_type": "code",
     "collapsed": false,
     "input": [
      "'Monty Python and the Holy Grail'.split()"
     ],
     "language": "python",
     "metadata": {},
     "outputs": [
      {
       "metadata": {},
       "output_type": "pyout",
       "prompt_number": 19,
       "text": [
        "['Monty', 'Python', 'and', 'the', 'Holy', 'Grail']"
       ]
      }
     ],
     "prompt_number": 19
    },
    {
     "cell_type": "markdown",
     "metadata": {},
     "source": [
      "**Method: .FreqDist(text/list)** - Returns the frequency of each vocabulary item in a given text. \n",
      "\n",
      "*.most_common(n)* - Returns the 'n' most frequently occuring types in the text"
     ]
    },
    {
     "cell_type": "code",
     "collapsed": false,
     "input": [
      "fdist = FreqDist(text1)\n",
      "print fdist\n",
      "print '\\n' # Print a new line\n",
      "print fdist.most_common(10)"
     ],
     "language": "python",
     "metadata": {},
     "outputs": [
      {
       "output_type": "stream",
       "stream": "stdout",
       "text": [
        "<FreqDist with 19317 samples and 260819 outcomes>\n",
        "\n",
        "\n",
        "[(u',', 18713), (u'the', 13721), (u'.', 6862), (u'of', 6536), (u'and', 6024), (u'a', 4569), (u'to', 4542), (u';', 4072), (u'in', 3916), (u'that', 2982)]\n"
       ]
      }
     ],
     "prompt_number": 20
    },
    {
     "cell_type": "markdown",
     "metadata": {},
     "source": [
      "Frequency distribution of the length of words"
     ]
    },
    {
     "cell_type": "code",
     "collapsed": false,
     "input": [
      "sent = ['Monty', 'Python', 'and', 'the', 'Holy', 'Grail']\n",
      "print [len(w) for w in sent]\n",
      "fdist = FreqDist(len(w) for w in sent)\n",
      "fdist"
     ],
     "language": "python",
     "metadata": {},
     "outputs": [
      {
       "output_type": "stream",
       "stream": "stdout",
       "text": [
        "[5, 6, 3, 3, 4, 5]\n"
       ]
      },
      {
       "metadata": {},
       "output_type": "pyout",
       "prompt_number": 55,
       "text": [
        "FreqDist({3: 2, 5: 2, 4: 1, 6: 1})"
       ]
      }
     ],
     "prompt_number": 55
    },
    {
     "cell_type": "code",
     "collapsed": false,
     "input": [
      "fdist = FreqDist(len(w) for w in text1)\n",
      "print 'Most frequent word length: %s' % fdist.max()\n",
      "print 'Number of words with word length 3 = %s' % fdist[3]\n",
      "print 'Percent of words with word length 3 = %s' % (fdist.freq(3) * 100)"
     ],
     "language": "python",
     "metadata": {},
     "outputs": [
      {
       "output_type": "stream",
       "stream": "stdout",
       "text": [
        "Most frequent word length: 3\n",
        "Number of words with word length 3 = 50223\n",
        "Percent of words with word length 3 = 19.2558824319\n"
       ]
      }
     ],
     "prompt_number": 62
    },
    {
     "cell_type": "markdown",
     "metadata": {},
     "source": [
      "**Cumulative Frequency Plot**"
     ]
    },
    {
     "cell_type": "code",
     "collapsed": false,
     "input": [
      "fdist.plot(50, cumulative = True)"
     ],
     "language": "python",
     "metadata": {},
     "outputs": [],
     "prompt_number": 21
    },
    {
     "cell_type": "markdown",
     "metadata": {},
     "source": [
      "**Method: .hapaxes( )** - Words that occur once"
     ]
    },
    {
     "cell_type": "code",
     "collapsed": false,
     "input": [
      "fdist.hapaxes()[:5]"
     ],
     "language": "python",
     "metadata": {},
     "outputs": [
      {
       "metadata": {},
       "output_type": "pyout",
       "prompt_number": 23,
       "text": [
        "[u'funereal', u'unscientific', u'prefix', u'plaudits', u'woody']"
       ]
      }
     ],
     "prompt_number": 23
    },
    {
     "cell_type": "markdown",
     "metadata": {},
     "source": [
      "**Selection of Words** $\\{w|w \\in V \\& P(w)\\}$ - The set of all w such that w is an element of V (the vocabulary) and w has property P"
     ]
    },
    {
     "cell_type": "code",
     "collapsed": false,
     "input": [
      "V = set(text1) # Vocabulary\n",
      "P = 17 # Property value\n",
      "long_words = [word for word in V if len(word) > P]\n",
      "print sorted(long_words)"
     ],
     "language": "python",
     "metadata": {},
     "outputs": [
      {
       "output_type": "stream",
       "stream": "stdout",
       "text": [
        "[u'characteristically', u'uninterpenetratingly']\n"
       ]
      }
     ],
     "prompt_number": 31
    },
    {
     "cell_type": "markdown",
     "metadata": {},
     "source": [
      "Frequently occuring long words"
     ]
    },
    {
     "cell_type": "code",
     "collapsed": false,
     "input": [
      "fdist = FreqDist(text1)\n",
      "sorted(word for word in set(text1) if len(word) > 13 and fdist[word] > 7)"
     ],
     "language": "python",
     "metadata": {},
     "outputs": [
      {
       "metadata": {},
       "output_type": "pyout",
       "prompt_number": 45,
       "text": [
        "[u'perpendicularly', u'simultaneously']"
       ]
      }
     ],
     "prompt_number": 45
    },
    {
     "cell_type": "markdown",
     "metadata": {},
     "source": [
      "**Collocation** - A sequence of words that occur together unusually often, e.g. Red Wine"
     ]
    },
    {
     "cell_type": "code",
     "collapsed": false,
     "input": [
      "print text1.collocations()"
     ],
     "language": "python",
     "metadata": {},
     "outputs": [
      {
       "output_type": "stream",
       "stream": "stdout",
       "text": [
        "Sperm Whale; Moby Dick; White Whale; old man; Captain Ahab; sperm\n",
        "whale; Right Whale; Captain Peleg; New Bedford; Cape Horn; cried Ahab;\n",
        "years ago; lower jaw; never mind; Father Mapple; cried Stubb; chief\n",
        "mate; white whale; ivory leg; one hand\n",
        "None\n"
       ]
      }
     ],
     "prompt_number": 51
    },
    {
     "cell_type": "markdown",
     "metadata": {},
     "source": [
      "**Bigrams** - A list of word pairs. Usage *list(bigrams([...]))*"
     ]
    },
    {
     "cell_type": "code",
     "collapsed": false,
     "input": [
      "print bigrams(['Monty', 'Python', 'and', 'the', 'Holy', 'Grail'])\n",
      "print list(bigrams(['Monty', 'Python', 'and', 'the', 'Holy', 'Grail']))"
     ],
     "language": "python",
     "metadata": {},
     "outputs": [
      {
       "output_type": "stream",
       "stream": "stdout",
       "text": [
        "<generator object bigrams at 0x11b81b910>\n",
        "[('Monty', 'Python'), ('Python', 'and'), ('and', 'the'), ('the', 'Holy'), ('Holy', 'Grail')]\n"
       ]
      }
     ],
     "prompt_number": 49
    },
    {
     "cell_type": "markdown",
     "metadata": {},
     "source": [
      "**Word Comparison Operators**"
     ]
    },
    {
     "cell_type": "code",
     "collapsed": false,
     "input": [
      "s = 'Monty Python!'\n",
      "print s.startswith('M') \n",
      "print s.endswith('!')\n",
      "print 'P' in s\n",
      "print s.islower() \n",
      "print s.isupper()\n",
      "print s.isalpha()\n",
      "print s.isalnum()\n",
      "print s.isdigit()\n",
      "print s.istitle()"
     ],
     "language": "python",
     "metadata": {},
     "outputs": [
      {
       "output_type": "stream",
       "stream": "stdout",
       "text": [
        "True\n",
        "True\n",
        "True\n",
        "False\n",
        "False\n",
        "False\n",
        "False\n",
        "False\n",
        "True\n"
       ]
      }
     ],
     "prompt_number": 71
    },
    {
     "cell_type": "code",
     "collapsed": false,
     "input": [
      "sorted(w for w in set(text7) if '-' in w and 'index' in w)"
     ],
     "language": "python",
     "metadata": {},
     "outputs": [
      {
       "metadata": {},
       "output_type": "pyout",
       "prompt_number": 72,
       "text": [
        "[u'Stock-index',\n",
        " u'index-arbitrage',\n",
        " u'index-fund',\n",
        " u'index-options',\n",
        " u'index-related',\n",
        " u'stock-index']"
       ]
      }
     ],
     "prompt_number": 72
    },
    {
     "cell_type": "code",
     "collapsed": false,
     "input": [
      "sorted(w for w in set(text3) if w.istitle() and len(w) > 12)"
     ],
     "language": "python",
     "metadata": {},
     "outputs": [
      {
       "metadata": {},
       "output_type": "pyout",
       "prompt_number": 75,
       "text": [
        "[u'Jegarsahadutha', u'Zaphnathpaaneah']"
       ]
      }
     ],
     "prompt_number": 75
    },
    {
     "cell_type": "code",
     "collapsed": false,
     "input": [
      "[w.upper() for w in set(text1)][100:105]"
     ],
     "language": "python",
     "metadata": {},
     "outputs": [
      {
       "metadata": {},
       "output_type": "pyout",
       "prompt_number": 77,
       "text": [
        "[u'FOSSIL', u'SNEERING', u'COLLEGE', u'INCREASING', u'ADMIRAL']"
       ]
      }
     ],
     "prompt_number": 77
    },
    {
     "cell_type": "markdown",
     "metadata": {},
     "source": [
      "Eliminating double counting and filtering out non alphabetic items"
     ]
    },
    {
     "cell_type": "code",
     "collapsed": false,
     "input": [
      "print len(set(text1))\n",
      "print len(set([w.lower() for w in text1 if w.isalpha()]))"
     ],
     "language": "python",
     "metadata": {},
     "outputs": [
      {
       "output_type": "stream",
       "stream": "stdout",
       "text": [
        "19317\n",
        "16948"
       ]
      },
      {
       "output_type": "stream",
       "stream": "stdout",
       "text": [
        "\n"
       ]
      }
     ],
     "prompt_number": 81
    },
    {
     "cell_type": "markdown",
     "metadata": {},
     "source": [
      "###Exercises\n",
      "\n",
      "1)"
     ]
    },
    {
     "cell_type": "code",
     "collapsed": false,
     "input": [
      "print 12/4.0"
     ],
     "language": "python",
     "metadata": {},
     "outputs": [
      {
       "output_type": "stream",
       "stream": "stdout",
       "text": [
        "3.0\n"
       ]
      }
     ],
     "prompt_number": 82
    },
    {
     "cell_type": "markdown",
     "metadata": {},
     "source": [
      "2)"
     ]
    },
    {
     "cell_type": "code",
     "collapsed": false,
     "input": [
      "print 26**100"
     ],
     "language": "python",
     "metadata": {},
     "outputs": [
      {
       "output_type": "stream",
       "stream": "stdout",
       "text": [
        "3142930641582938830174357788501626427282669988762475256374173175398995908420104023465432599069702289330964075081611719197835869803511992549376\n"
       ]
      }
     ],
     "prompt_number": 83
    },
    {
     "cell_type": "markdown",
     "metadata": {},
     "source": [
      "3)"
     ]
    },
    {
     "cell_type": "code",
     "collapsed": false,
     "input": [
      "print ['Monty', 'Python'] * 20"
     ],
     "language": "python",
     "metadata": {},
     "outputs": [
      {
       "output_type": "stream",
       "stream": "stdout",
       "text": [
        "['Monty', 'Python', 'Monty', 'Python', 'Monty', 'Python', 'Monty', 'Python', 'Monty', 'Python', 'Monty', 'Python', 'Monty', 'Python', 'Monty', 'Python', 'Monty', 'Python', 'Monty', 'Python', 'Monty', 'Python', 'Monty', 'Python', 'Monty', 'Python', 'Monty', 'Python', 'Monty', 'Python', 'Monty', 'Python', 'Monty', 'Python', 'Monty', 'Python', 'Monty', 'Python', 'Monty', 'Python']\n"
       ]
      }
     ],
     "prompt_number": 85
    },
    {
     "cell_type": "markdown",
     "metadata": {},
     "source": [
      "4)"
     ]
    },
    {
     "cell_type": "code",
     "collapsed": false,
     "input": [
      "print \"Number of words in text2 = %d\" %len(text2)\n",
      "print \"Distinct words in text2 = %d\" % len(set(text2))"
     ],
     "language": "python",
     "metadata": {},
     "outputs": [
      {
       "output_type": "stream",
       "stream": "stdout",
       "text": [
        "Number of words in text2 = 141576\n",
        "Distinct words in text2 = 6833"
       ]
      },
      {
       "output_type": "stream",
       "stream": "stdout",
       "text": [
        "\n"
       ]
      }
     ],
     "prompt_number": 87
    },
    {
     "cell_type": "markdown",
     "metadata": {},
     "source": [
      "5) Humor is more lexically diverse"
     ]
    },
    {
     "cell_type": "markdown",
     "metadata": {},
     "source": [
      "6)"
     ]
    },
    {
     "cell_type": "code",
     "collapsed": false,
     "input": [
      "text2.dispersion_plot(['Elinor', 'Marianne', 'Edward', 'Willoughby'])"
     ],
     "language": "python",
     "metadata": {},
     "outputs": [],
     "prompt_number": 88
    },
    {
     "cell_type": "markdown",
     "metadata": {},
     "source": [
      "7)"
     ]
    },
    {
     "cell_type": "code",
     "collapsed": false,
     "input": [
      "text5.collocations()"
     ],
     "language": "python",
     "metadata": {},
     "outputs": [
      {
       "output_type": "stream",
       "stream": "stdout",
       "text": [
        "wanna chat; PART JOIN; MODE #14-19teens; JOIN PART; PART PART;\n",
        "cute.-ass MP3; MP3 player; JOIN JOIN; times .. .; ACTION watches; guys\n",
        "wanna; song lasts; last night; ACTION sits; -...)...- S.M.R.; Lime\n",
        "Player; Player 12%; dont know; lez gurls; long time\n"
       ]
      }
     ],
     "prompt_number": 89
    },
    {
     "cell_type": "markdown",
     "metadata": {},
     "source": [
      "8) Purpose: Find vocabulary length. First find unique words, then find the total number of unique words "
     ]
    },
    {
     "cell_type": "markdown",
     "metadata": {},
     "source": [
      "9)"
     ]
    },
    {
     "cell_type": "code",
     "collapsed": false,
     "input": [
      "my_string = ['Monty', 'Python']\n",
      "my_string\n",
      "print my_string * 3"
     ],
     "language": "python",
     "metadata": {},
     "outputs": [
      {
       "output_type": "stream",
       "stream": "stdout",
       "text": [
        "['Monty', 'Python', 'Monty', 'Python', 'Monty', 'Python']\n"
       ]
      }
     ],
     "prompt_number": 90
    },
    {
     "cell_type": "markdown",
     "metadata": {},
     "source": [
      "10)"
     ]
    },
    {
     "cell_type": "code",
     "collapsed": false,
     "input": [
      "my_string = ['Monty', 'Python']\n",
      "print ' '.join(my_string)\n",
      "print ' '.join(my_string).split()"
     ],
     "language": "python",
     "metadata": {},
     "outputs": [
      {
       "output_type": "stream",
       "stream": "stdout",
       "text": [
        "Monty Python\n",
        "['Monty', 'Python']\n"
       ]
      }
     ],
     "prompt_number": 92
    },
    {
     "cell_type": "markdown",
     "metadata": {},
     "source": [
      "11)"
     ]
    },
    {
     "cell_type": "code",
     "collapsed": false,
     "input": [
      "p1 = ['Monty', 'Python']\n",
      "p2 = ['and', 'the']\n",
      "p3 = ['Holy', 'Grail']\n",
      "print p1 + p2 + p3\n",
      "print len(p1) + len(p2) + len(p3)\n",
      "print len(p1 + p2 + p3)"
     ],
     "language": "python",
     "metadata": {},
     "outputs": [
      {
       "output_type": "stream",
       "stream": "stdout",
       "text": [
        "['Monty', 'Python', 'and', 'the', 'Holy', 'Grail']\n",
        "6\n",
        "6\n"
       ]
      }
     ],
     "prompt_number": 97
    },
    {
     "cell_type": "markdown",
     "metadata": {},
     "source": [
      "12)"
     ]
    },
    {
     "cell_type": "code",
     "collapsed": false,
     "input": [
      "print \"Monty Python\"[6:12]\n",
      "print [\"Monty\", \"Python\"][1]"
     ],
     "language": "python",
     "metadata": {},
     "outputs": [
      {
       "output_type": "stream",
       "stream": "stdout",
       "text": [
        "Python\n",
        "Python\n"
       ]
      }
     ],
     "prompt_number": 95
    },
    {
     "cell_type": "markdown",
     "metadata": {},
     "source": [
      "13)"
     ]
    },
    {
     "cell_type": "code",
     "collapsed": false,
     "input": [
      "sent = [\"Monty\", \"Python\"]\n",
      "print sent[1][1]"
     ],
     "language": "python",
     "metadata": {},
     "outputs": [
      {
       "output_type": "stream",
       "stream": "stdout",
       "text": [
        "y\n"
       ]
      }
     ],
     "prompt_number": 101
    },
    {
     "cell_type": "markdown",
     "metadata": {},
     "source": [
      "14)"
     ]
    },
    {
     "cell_type": "code",
     "collapsed": false,
     "input": [
      "print sent3\n",
      "print 'Indexes of \"the\" are 5 and 9'"
     ],
     "language": "python",
     "metadata": {},
     "outputs": [
      {
       "output_type": "stream",
       "stream": "stdout",
       "text": [
        "['In', 'the', 'beginning', 'God', 'created', 'the', 'heaven', 'and', 'the', 'earth', '.']\n",
        "Indexes of \"the\" are 5 and 9\n"
       ]
      }
     ],
     "prompt_number": 104
    },
    {
     "cell_type": "markdown",
     "metadata": {},
     "source": [
      "15)"
     ]
    },
    {
     "cell_type": "code",
     "collapsed": false,
     "input": [
      "print sorted([w.lower() for w in set(text5) if w.startswith('b')])"
     ],
     "language": "python",
     "metadata": {},
     "outputs": [
      {
       "output_type": "stream",
       "stream": "stdout",
       "text": [
        "[u'b', u'b-day', u'b/c', u'b4', u'babay', u'babble', u'babblein', u'babe', u'babes', u'babi', u'babies', u'babiess', u'baby', u'babycakeses', u'bachelorette', u'back', u'backatchya', u'backfrontsidewaysandallaroundtheworld', u'backroom', u'backup', u'bacl', u'bad', u'bag', u'bagel', u'bagels', u'bahahahaa', u'bak', u'baked', u'balad', u'balance', u'balck', u'ball', u'ballin', u'balls', u'ban', u'band', u'bandito', u'bandsaw', u'banjoes', u'banned', u'baord', u'bar', u'barbie', u'bare', u'barely', u'bares', u'barfights', u'barks', u'barn', u'barrel', u'base', u'bases', u'basically', u'basket', u'battery', u'bay', u'bbbbbyyyyyyyeeeeeeeee', u'bbiam', u'bbl', u'bbs', u'bc', u'be', u'beach', u'beachhhh', u'beam', u'beams', u'beanbag', u'beans', u'bear', u'bears', u'beat', u'beaten', u'beatles', u'beats', u'beattles', u'beautiful', u'because', u'beckley', u'become', u'bed', u'bedford', u'bedroom', u'beeeeehave', u'beeehave', u'been', u'beer', u'before', u'beg', u'begin', u'behave', u'behind', u'bein', u'being', u'beleive', u'believe', u'belive', u'bell', u'belly', u'belong', u'belongings', u'ben', u'bend', u'benz', u'bes', u'beside', u'besides', u'best', u'bet', u'betrayal', u'betta', u'better', u'between', u'beuty', u'bf', u'bi', u'biatch', u'bible', u'biebsa', u'bied', u'big', u'bigest', u'biggest', u'biiiatch', u'bike', u'bikes', u'bikini', u'bio', u'bird', u'birfday', u'birthday', u'bisexual', u'bishes', u'bit', u'bitch', u'bitches', u'bitdh', u'bite', u'bites', u'biyatch', u'biz', u'bj', u'black', u'blade', u'blah', u'blank', u'blankie', u'blazed', u'bleach', u'blech', u'bless', u'blessings', u'blew', u'blind', u'blinks', u'bliss', u'blocking', u'bloe', u'blood', u'blooded', u'bloody', u'blow', u'blowing', u'blowjob', u'blowup', u'blue', u'blueberry', u'bluer', u'blues', u'blunt', u'board', u'bob', u'bodies', u'body', u'boed', u'boght', u'boi', u'boing', u'boinked', u'bois', u'bomb', u'bone', u'boned', u'bones', u'bong', u'boning', u'bonus', u'boo', u'booboo', u'boobs', u'book', u'boom', u'boooooooooooglyyyyyy', u'boost', u'boot', u'bootay', u'booted', u'boots', u'booty', u'border', u'borderline', u'bored', u'boredom', u'boring', u'born', u'born-again', u'bosom', u'boss', u'bossy', u'bot', u'both', u'bother', u'bothering', u'bottle', u'bought', u'bounced', u'bouncer', u'bouncers', u'bound', u'bout', u'bouts', u'bow', u'bowl', u'box', u'boy', u'boyfriend', u'boys', u'bra', u'brad', u'brady', u'brain', u'brakes', u'brass', u'brat', u'brb', u'brbbb', u'bread', u'break', u'breaks', u'breath', u'breathe', u'bred', u'breeding', u'bright', u'brightened', u'bring', u'brings', u'bro', u'broke', u'brooklyn', u'brother', u'brothers', u'brought', u'brown', u'brrrrrrr', u'bruises', u'brunswick', u'brwn', u'btw', u'bucks', u'buddyyyyyy', u'buff', u'buffalo', u'bug', u'bugs', u'buh', u'build', u'builds', u'built', u'bull', u'bulls', u'bum', u'bumber', u'bummer', u'bumped', u'bumper', u'bunch', u'bunny', u'burger', u'burito', u'burned', u'burns', u'burp', u'burpin', u'burps', u'burried', u'burryed', u'bus', u'buses', u'bust', u'busted', u'busy', u'but', u'butt', u'butter', u'butterscotch', u'button', u'buttons', u'buy', u'buying', u'bwahahahahahahahahahaha', u'by', u'byb', u'bye', u'byeee', u'byeeee', u'byeeeeeeee', u'byeeeeeeeeeeeee', u'byes']\n"
       ]
      }
     ],
     "prompt_number": 108
    },
    {
     "cell_type": "markdown",
     "metadata": {},
     "source": [
      "16)"
     ]
    },
    {
     "cell_type": "code",
     "collapsed": false,
     "input": [
      "print list(range(10))\n",
      "print list(range(10, 20))\n",
      "print list(range(10, 20, 2))\n",
      "print list(range(10, 20, -2))"
     ],
     "language": "python",
     "metadata": {},
     "outputs": [
      {
       "output_type": "stream",
       "stream": "stdout",
       "text": [
        "[0, 1, 2, 3, 4, 5, 6, 7, 8, 9]\n",
        "[10, 11, 12, 13, 14, 15, 16, 17, 18, 19]\n",
        "[10, 12, 14, 16, 18]\n",
        "[]\n"
       ]
      }
     ],
     "prompt_number": 112
    },
    {
     "cell_type": "markdown",
     "metadata": {},
     "source": [
      "17)"
     ]
    },
    {
     "cell_type": "code",
     "collapsed": false,
     "input": [
      "text9.index('sunset')\n",
      "print ' '.join(text9[629 - 10: 629 + 10])"
     ],
     "language": "python",
     "metadata": {},
     "outputs": [
      {
       "output_type": "stream",
       "stream": "stdout",
       "text": [
        "SAFFRON PARK THE suburb of Saffron Park lay on the sunset side of London , as red and ragged as\n"
       ]
      }
     ],
     "prompt_number": 115
    },
    {
     "cell_type": "markdown",
     "metadata": {},
     "source": [
      "18)"
     ]
    },
    {
     "cell_type": "code",
     "collapsed": false,
     "input": [
      "print set(sent1 + sent2 + sent3 + sent4 + sent5 + sent6 + sent7 + sent8)"
     ],
     "language": "python",
     "metadata": {},
     "outputs": [
      {
       "output_type": "stream",
       "stream": "stdout",
       "text": [
        "set(['and', 'Dashwood', 'old', 'family', 'people', 'God', 'Representatives', 'Vinken', '61', 'as', 'Call', 'been', 'have', 'in', 'earth', 'nonexecutive', '[', 'lol', 'Whoa', 'KING', '29', ']', 'with', 'Sussex', 'had', 'SCENE', 'long', '.', '1', 'to', 'ARTHUR', 'encounters', 'seeks', 'board', ':', 'SEXY', 'Ishmael', 'lady', 'a', ',', 'Citizens', '25', 'I', 'there', '-', 'House', 'director', 'attrac', '!', 'MALE', 'join', 'The', 'years', 'beginning', 'problem', 'single', 'me', 'heaven', 'JOIN', 'for', 'created', 'Senate', 'of', 'Nov.', 'older', 'Pierre', 'Fellow', 'will', 'discreet', 'wind', 'In', 'clop', 'the', 'settled', 'PMing'])\n"
       ]
      }
     ],
     "prompt_number": 120
    },
    {
     "cell_type": "markdown",
     "metadata": {},
     "source": [
      "19) Second code includes repeated words, e.g. \"the\" and \"The\""
     ]
    },
    {
     "cell_type": "code",
     "collapsed": false,
     "input": [
      "print len(set(w.lower() for w in text1))\n",
      "print len([w.lower() for w in set(text1)])"
     ],
     "language": "python",
     "metadata": {},
     "outputs": [
      {
       "output_type": "stream",
       "stream": "stdout",
       "text": [
        "17231\n",
        "19317"
       ]
      },
      {
       "output_type": "stream",
       "stream": "stdout",
       "text": [
        "\n"
       ]
      }
     ],
     "prompt_number": 123
    },
    {
     "cell_type": "markdown",
     "metadata": {},
     "source": [
      "20) Both tests are same"
     ]
    },
    {
     "cell_type": "code",
     "collapsed": false,
     "input": [
      "print 'MONTY'.isupper()\n",
      "print not 'MONTY'.islower()"
     ],
     "language": "python",
     "metadata": {},
     "outputs": [
      {
       "output_type": "stream",
       "stream": "stdout",
       "text": [
        "True\n",
        "True\n"
       ]
      }
     ],
     "prompt_number": 124
    },
    {
     "cell_type": "markdown",
     "metadata": {},
     "source": [
      "21)"
     ]
    },
    {
     "cell_type": "code",
     "collapsed": false,
     "input": [
      "text2[-2:]"
     ],
     "language": "python",
     "metadata": {},
     "outputs": [
      {
       "metadata": {},
       "output_type": "pyout",
       "prompt_number": 125,
       "text": [
        "[u'THE', u'END']"
       ]
      }
     ],
     "prompt_number": 125
    },
    {
     "cell_type": "markdown",
     "metadata": {},
     "source": [
      "22)"
     ]
    },
    {
     "cell_type": "code",
     "collapsed": false,
     "input": [
      "text = [w.lower() for w in text5 if len(w) == 4]\n",
      "fdist = FreqDist(text)\n",
      "fdist.most_common(10)"
     ],
     "language": "python",
     "metadata": {},
     "outputs": [
      {
       "metadata": {},
       "output_type": "pyout",
       "prompt_number": 131,
       "text": [
        "[(u'part', 1022),\n",
        " (u'join', 1021),\n",
        " (u'that', 284),\n",
        " (u'what', 201),\n",
        " (u'here', 185),\n",
        " (u'have', 171),\n",
        " (u'....', 170),\n",
        " (u'like', 160),\n",
        " (u'with', 154),\n",
        " (u'chat', 146)]"
       ]
      }
     ],
     "prompt_number": 131
    },
    {
     "cell_type": "markdown",
     "metadata": {},
     "source": [
      "23)"
     ]
    },
    {
     "cell_type": "code",
     "collapsed": false,
     "input": [
      "for w in text6[:50]:\n",
      "    if w.isupper():\n",
      "        print w"
     ],
     "language": "python",
     "metadata": {},
     "outputs": [
      {
       "output_type": "stream",
       "stream": "stdout",
       "text": [
        "SCENE\n",
        "KING\n",
        "ARTHUR\n",
        "SOLDIER\n",
        "ARTHUR\n",
        "I\n"
       ]
      }
     ],
     "prompt_number": 139
    },
    {
     "cell_type": "markdown",
     "metadata": {},
     "source": [
      "24)"
     ]
    },
    {
     "cell_type": "code",
     "collapsed": false,
     "input": [
      "result = []\n",
      "for w in text6:\n",
      "    if w.endswith('ize'):\n",
      "        result.append(w)\n",
      "    elif 'z' in w:\n",
      "        result.append(w)\n",
      "    elif 'pt' in w:\n",
      "        result.append(w)\n",
      "    elif w.istitle():\n",
      "        result.append(w)\n",
      "\n",
      "print result[:10]"
     ],
     "language": "python",
     "metadata": {},
     "outputs": [
      {
       "output_type": "stream",
       "stream": "stdout",
       "text": [
        "[u'Whoa', u'Halt', u'Who', u'It', u'I', u'Arthur', u'Uther', u'Pendragon', u'Camelot', u'King']\n"
       ]
      }
     ],
     "prompt_number": 148
    },
    {
     "cell_type": "markdown",
     "metadata": {},
     "source": [
      "25)"
     ]
    },
    {
     "cell_type": "code",
     "collapsed": false,
     "input": [
      "sent = ['she', 'sells', 'sea', 'shells', 'by', 'the', 'sea', 'shore']\n",
      "sh = [w for w in sent if w.startswith('sh')]\n",
      "print sh\n",
      "four = [w for w in sent if len(w) >= 4]\n",
      "print four"
     ],
     "language": "python",
     "metadata": {},
     "outputs": [
      {
       "output_type": "stream",
       "stream": "stdout",
       "text": [
        "['she', 'shells', 'shore']\n",
        "['sells', 'shells', 'shore']\n"
       ]
      }
     ],
     "prompt_number": 150
    },
    {
     "cell_type": "markdown",
     "metadata": {},
     "source": [
      "26) \n",
      "```python\n",
      "sum(len(w) for w in text1)\n",
      "```\n",
      "Sums the length of all words in text1"
     ]
    },
    {
     "cell_type": "code",
     "collapsed": false,
     "input": [
      "sum(len(w) for w in text1)/float(len(text1))"
     ],
     "language": "python",
     "metadata": {},
     "outputs": [
      {
       "metadata": {},
       "output_type": "pyout",
       "prompt_number": 153,
       "text": [
        "3.830411128023649"
       ]
      }
     ],
     "prompt_number": 153
    },
    {
     "cell_type": "markdown",
     "metadata": {},
     "source": [
      "26)"
     ]
    },
    {
     "cell_type": "code",
     "collapsed": false,
     "input": [
      "def vocab_size(text):\n",
      "    size = len(set(text))\n",
      "    return size\n",
      "\n",
      "vocab_size(text1)"
     ],
     "language": "python",
     "metadata": {},
     "outputs": [
      {
       "metadata": {},
       "output_type": "pyout",
       "prompt_number": 154,
       "text": [
        "19317"
       ]
      }
     ],
     "prompt_number": 154
    },
    {
     "cell_type": "markdown",
     "metadata": {},
     "source": [
      "27)"
     ]
    },
    {
     "cell_type": "code",
     "collapsed": false,
     "input": [
      "def percent(word, text):\n",
      "    return text.count(word) * 100.0 / len(text)\n",
      "\n",
      "percent(\"whale\", text1)"
     ],
     "language": "python",
     "metadata": {},
     "outputs": [
      {
       "metadata": {},
       "output_type": "pyout",
       "prompt_number": 157,
       "text": [
        "0.3473673313677301"
       ]
      }
     ],
     "prompt_number": 157
    },
    {
     "cell_type": "markdown",
     "metadata": {},
     "source": [
      "28) Expression compares the vocabulary length of two texts"
     ]
    },
    {
     "cell_type": "code",
     "collapsed": false,
     "input": [
      "set(sent3) < set(text1)"
     ],
     "language": "python",
     "metadata": {},
     "outputs": [
      {
       "metadata": {},
       "output_type": "pyout",
       "prompt_number": 155,
       "text": [
        "True"
       ]
      }
     ],
     "prompt_number": 155
    },
    {
     "cell_type": "markdown",
     "metadata": {},
     "source": [
      "<font color = 'blue'>**http://www.nltk.org/howto/**</font>  \n",
      "<font color='blue'>**http://www.nltk.org/index.html**</font>\n"
     ]
    },
    {
     "cell_type": "markdown",
     "metadata": {},
     "source": [
      "**<font color = 'steelblue'>Conditional Frequency Distributions</font>** - Collection of frequency distributions, each one for a different \"condition\"  \n",
      "**Method: nltk.ConditionalFreqDist((condition, event))** - Needs a pair"
     ]
    },
    {
     "cell_type": "code",
     "collapsed": false,
     "input": [
      "condition = ['Action', 'Thriller']\n",
      "event = ['afraid', 'chase', 'when', 'why', 'why', 'where', 'why', 'when']\n",
      "pairs = [(c, e) for c in condition for e in event]\n",
      "print pairs"
     ],
     "language": "python",
     "metadata": {},
     "outputs": [
      {
       "output_type": "stream",
       "stream": "stdout",
       "text": [
        "[('Action', 'afraid'), ('Action', 'chase'), ('Action', 'when'), ('Action', 'why'), ('Action', 'why'), ('Action', 'where'), ('Action', 'why'), ('Action', 'when'), ('Thriller', 'afraid'), ('Thriller', 'chase'), ('Thriller', 'when'), ('Thriller', 'why'), ('Thriller', 'why'), ('Thriller', 'where'), ('Thriller', 'why'), ('Thriller', 'when')]\n"
       ]
      }
     ],
     "prompt_number": 3
    },
    {
     "cell_type": "code",
     "collapsed": false,
     "input": [
      "cfd = nltk.ConditionalFreqDist(pairs)\n",
      "print cfd.conditions()\n",
      "print cfd.N()\n",
      "print cfd.items()\n",
      "print cfd['Action']"
     ],
     "language": "python",
     "metadata": {},
     "outputs": [
      {
       "output_type": "stream",
       "stream": "stdout",
       "text": [
        "['Action', 'Thriller']\n",
        "16\n",
        "[('Action', FreqDist({'why': 3, 'when': 2, 'where': 1, 'afraid': 1, 'chase': 1})), ('Thriller', FreqDist({'why': 3, 'when': 2, 'where': 1, 'afraid': 1, 'chase': 1}))]\n",
        "<FreqDist with 5 samples and 8 outcomes>\n"
       ]
      }
     ],
     "prompt_number": 11
    },
    {
     "cell_type": "markdown",
     "metadata": {},
     "source": [
      "**Method: .tabulate( )**"
     ]
    },
    {
     "cell_type": "code",
     "collapsed": false,
     "input": [
      "cfd.tabulate()"
     ],
     "language": "python",
     "metadata": {},
     "outputs": [
      {
       "output_type": "stream",
       "stream": "stdout",
       "text": [
        "         afraid chase when where  why \n",
        "  Action    1    1    2    1    3 \n",
        "Thriller    1    1    2    1    3 \n"
       ]
      }
     ],
     "prompt_number": 13
    },
    {
     "cell_type": "code",
     "collapsed": false,
     "input": [
      "sent = ['In', 'the', 'beginning']\n",
      "list(nltk.bigrams(sent))"
     ],
     "language": "python",
     "metadata": {},
     "outputs": [
      {
       "metadata": {},
       "output_type": "pyout",
       "prompt_number": 16,
       "text": [
        "[('In', 'the'), ('the', 'beginning')]"
       ]
      }
     ],
     "prompt_number": 16
    },
    {
     "cell_type": "markdown",
     "metadata": {},
     "source": [
      "**Two distinct words having same spelling are called homonyms**"
     ]
    },
    {
     "cell_type": "markdown",
     "metadata": {},
     "source": [
      "```python\n",
      "from nlkt.corpus import stopwords\n",
      "```\n",
      "\n",
      "**Stopwords are high-frequency words like** the, to, also, ..."
     ]
    },
    {
     "cell_type": "code",
     "collapsed": false,
     "input": [],
     "language": "python",
     "metadata": {},
     "outputs": []
    }
   ],
   "metadata": {}
  }
 ]
}