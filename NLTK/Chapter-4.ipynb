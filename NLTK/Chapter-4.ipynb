{
 "metadata": {
  "name": "",
  "signature": "sha256:14631f7bc4d943fd3eb07f4e2064c1886d0385e939550dd9116e729a91514f87"
 },
 "nbformat": 3,
 "nbformat_minor": 0,
 "worksheets": [
  {
   "cells": [
    {
     "cell_type": "code",
     "collapsed": false,
     "input": [
      "import nltk, re"
     ],
     "language": "python",
     "metadata": {},
     "outputs": [],
     "prompt_number": 1
    },
    {
     "cell_type": "code",
     "collapsed": false,
     "input": [
      "foo = 'Monty'\n",
      "bar = foo # the value of foo = 'Monty' is assigned to bar, i.e. bar is a copy of foo\n",
      "foo = 'Python'# overwriting value of foo doesnt not affect value of bar\n",
      "bar "
     ],
     "language": "python",
     "metadata": {},
     "outputs": [
      {
       "metadata": {},
       "output_type": "pyout",
       "prompt_number": 2,
       "text": [
        "'Monty'"
       ]
      }
     ],
     "prompt_number": 2
    },
    {
     "cell_type": "markdown",
     "metadata": {},
     "source": [
      "**List Assignment and Computer Memory** - Two list objects A and B reference the same location in the computers memory; updating A will also modify B, and vice versa. Python's assignment and parameter passing use object references; e.g. if a is a list and we assign b = a, then any operation on a will modify b, and vice versa."
     ]
    },
    {
     "cell_type": "code",
     "collapsed": false,
     "input": [
      "foo = ['Monty', 'Python']\n",
      "bar = foo\n",
      "foo[1] = 'Anaconda'\n",
      "bar # Now bar changed"
     ],
     "language": "python",
     "metadata": {},
     "outputs": [
      {
       "metadata": {},
       "output_type": "pyout",
       "prompt_number": 3,
       "text": [
        "['Monty', 'Anaconda']"
       ]
      }
     ],
     "prompt_number": 3
    },
    {
     "cell_type": "markdown",
     "metadata": {},
     "source": [
      "Experiment"
     ]
    },
    {
     "cell_type": "code",
     "collapsed": false,
     "input": [
      "empty = []\n",
      "nested = [empty, empty, empty]\n",
      "nested"
     ],
     "language": "python",
     "metadata": {},
     "outputs": [
      {
       "metadata": {},
       "output_type": "pyout",
       "prompt_number": 5,
       "text": [
        "[[], [], []]"
       ]
      }
     ],
     "prompt_number": 5
    },
    {
     "cell_type": "code",
     "collapsed": false,
     "input": [
      "nested[0].append('Python')\n",
      "nested"
     ],
     "language": "python",
     "metadata": {},
     "outputs": [
      {
       "metadata": {},
       "output_type": "pyout",
       "prompt_number": 6,
       "text": [
        "[['Python'], ['Python'], ['Python']]"
       ]
      }
     ],
     "prompt_number": 6
    },
    {
     "cell_type": "markdown",
     "metadata": {},
     "source": [
      "**id( )** - Function returns the numerical identifier for any object"
     ]
    },
    {
     "cell_type": "code",
     "collapsed": false,
     "input": [
      "nested = [[]] * 3\n",
      "print nested\n",
      "nested[2].append('What')\n",
      "print nested\n",
      "print id(nested[0])\n",
      "print id(nested[1])\n",
      "print id(nested[2])"
     ],
     "language": "python",
     "metadata": {},
     "outputs": [
      {
       "output_type": "stream",
       "stream": "stdout",
       "text": [
        "[[], [], []]\n",
        "[['What'], ['What'], ['What']]\n",
        "4429738136\n",
        "4429738136\n",
        "4429738136\n"
       ]
      }
     ],
     "prompt_number": 7
    },
    {
     "cell_type": "markdown",
     "metadata": {},
     "source": [
      "<font color = 'blue'>Difference between modifying an object via an object reference and overwriting an object reference</font>"
     ]
    },
    {
     "cell_type": "code",
     "collapsed": false,
     "input": [
      "nested = [[]] * 2 # List containing references to a single empty list object\n",
      "nested[1].append('Python') # Modified object via object reference\n",
      "print nested\n",
      "nested[1] = ['Monty'] # Overwriting an object reference\n",
      "print nested"
     ],
     "language": "python",
     "metadata": {},
     "outputs": [
      {
       "output_type": "stream",
       "stream": "stdout",
       "text": [
        "[['Python'], ['Python']]\n",
        "[['Python'], ['Monty']]\n"
       ]
      }
     ],
     "prompt_number": 8
    },
    {
     "cell_type": "code",
     "collapsed": false,
     "input": [
      "bar = foo[:] # This copies object references inside the list\n",
      "print bar\n",
      "foo[1] = 'Python'\n",
      "print foo\n",
      "print bar"
     ],
     "language": "python",
     "metadata": {},
     "outputs": [
      {
       "output_type": "stream",
       "stream": "stdout",
       "text": [
        "['Monty', 'Python']\n",
        "['Monty', 'Python']\n",
        "['Monty', 'Python']\n"
       ]
      }
     ],
     "prompt_number": 10
    },
    {
     "cell_type": "code",
     "collapsed": false,
     "input": [
      "# Equality test\n",
      "size = 3\n",
      "python = ['Python']\n",
      "snake_nest = [python] * size\n",
      "print snake_nest\n",
      "print snake_nest[0] == snake_nest[1] == snake_nest[2] \n",
      "print snake_nest[0] is snake_nest[1] is snake_nest[2]\n",
      "[id(snake) for snake in snake_nest]"
     ],
     "language": "python",
     "metadata": {},
     "outputs": [
      {
       "output_type": "stream",
       "stream": "stdout",
       "text": [
        "[['Python'], ['Python'], ['Python']]\n",
        "True\n",
        "True\n"
       ]
      },
      {
       "metadata": {},
       "output_type": "pyout",
       "prompt_number": 11,
       "text": [
        "[4429739000, 4429739000, 4429739000]"
       ]
      }
     ],
     "prompt_number": 11
    },
    {
     "cell_type": "code",
     "collapsed": false,
     "input": [
      "import random\n",
      "position = random.choice(range(size))\n",
      "snake_nest[position] = ['Python']\n",
      "snake_nest\n",
      "print snake_nest[0] == snake_nest[1] == snake_nest[2] \n",
      "print snake_nest[0] is snake_nest[1] is snake_nest[2]"
     ],
     "language": "python",
     "metadata": {},
     "outputs": [
      {
       "output_type": "stream",
       "stream": "stdout",
       "text": [
        "True\n",
        "False\n"
       ]
      }
     ],
     "prompt_number": 12
    },
    {
     "cell_type": "code",
     "collapsed": false,
     "input": [
      "# using id() to check the positions\n",
      "[id(snake) for snake in snake_nest]"
     ],
     "language": "python",
     "metadata": {},
     "outputs": [
      {
       "metadata": {},
       "output_type": "pyout",
       "prompt_number": 13,
       "text": [
        "[4429739000, 4429739000, 4429738640]"
       ]
      }
     ],
     "prompt_number": 13
    },
    {
     "cell_type": "markdown",
     "metadata": {},
     "source": [
      "**Conditionals**"
     ]
    },
    {
     "cell_type": "code",
     "collapsed": false,
     "input": [
      "mixed = ['cat', '', ' ', ['dog'], []]\n",
      "for element in mixed:\n",
      "    if element: # Means: if len(element) > 0 \n",
      "        print element, len(element)"
     ],
     "language": "python",
     "metadata": {},
     "outputs": [
      {
       "output_type": "stream",
       "stream": "stdout",
       "text": [
        "cat 3\n",
        "  1\n",
        "['dog'] 1\n"
       ]
      }
     ],
     "prompt_number": 14
    },
    {
     "cell_type": "code",
     "collapsed": false,
     "input": [
      "animals = ['cat', 'dog']\n",
      "if 'cat' in animals:\n",
      "    print(1)\n",
      "elif 'dog' in animals:\n",
      "    print(2)"
     ],
     "language": "python",
     "metadata": {},
     "outputs": [
      {
       "output_type": "stream",
       "stream": "stdout",
       "text": [
        "1\n"
       ]
      }
     ],
     "prompt_number": 15
    },
    {
     "cell_type": "markdown",
     "metadata": {},
     "source": [
      "**Functions: <font color = 'blue'>all( )</font>** and **<font color = 'blue'>any( )</font>** - To check whether all or any items in a list or sequence meet some condition"
     ]
    },
    {
     "cell_type": "code",
     "collapsed": false,
     "input": [
      "sent = ['No', 'good', 'fish', 'goes', 'anywhere', 'without', 'a']\n",
      "print all(len(w) > 4 for w in sent)\n",
      "print any(len(w) > 4 for w in sent)"
     ],
     "language": "python",
     "metadata": {},
     "outputs": [
      {
       "output_type": "stream",
       "stream": "stdout",
       "text": [
        "False\n",
        "True\n"
       ]
      }
     ],
     "prompt_number": 16
    },
    {
     "cell_type": "markdown",
     "metadata": {},
     "source": [
      "**Sequences:** **<font color = 'blue'>tuples</font>** - Formed with the comma operator, and typically enclosed using parentheses"
     ]
    },
    {
     "cell_type": "code",
     "collapsed": false,
     "input": [
      "t = 'walk', 'fem', 3\n",
      "print t\n",
      "print t[0]\n",
      "print t[1:]\n",
      "print len(t)"
     ],
     "language": "python",
     "metadata": {},
     "outputs": [
      {
       "output_type": "stream",
       "stream": "stdout",
       "text": [
        "('walk', 'fem', 3)\n",
        "walk\n",
        "('fem', 3)\n",
        "3\n"
       ]
      }
     ],
     "prompt_number": 15
    },
    {
     "cell_type": "markdown",
     "metadata": {},
     "source": [
      "**<font color = 'blue'>set(s)</font>** - Unique elements of \"s\", **<font color = 'blue'>set(s).difference(t)</font>** - Elements of \"s\" not in \"t\". <font color = 'blue'>reverse(s)</font> - Elements of \"s\" in reverse"
     ]
    },
    {
     "cell_type": "code",
     "collapsed": false,
     "input": [
      "# Iterate over elements of 's' not in 't'\n",
      "s = ['a', 'a', 'b', 'b', 'b', 'c', 'd', 'd']\n",
      "t = ['a', 'b']\n",
      "print set(s)\n",
      "print set(s).difference(t)\n",
      "for item in set(s).difference(t):\n",
      "    print item"
     ],
     "language": "python",
     "metadata": {},
     "outputs": [
      {
       "output_type": "stream",
       "stream": "stdout",
       "text": [
        "set(['a', 'c', 'b', 'd'])\n",
        "set(['c', 'd'])\n",
        "c\n",
        "d\n"
       ]
      }
     ],
     "prompt_number": 17
    },
    {
     "cell_type": "markdown",
     "metadata": {},
     "source": [
      "**Converting any kind of sequence \"s\" into: <font color = 'blue'>tuple(s)</font>, and a <font color = 'blue'>list(s) </font>**"
     ]
    },
    {
     "cell_type": "code",
     "collapsed": false,
     "input": [
      "s = 'I am Ankoor!'\n",
      "print tuple(s)\n",
      "print list(s)\n",
      "print ''.join(tuple(s))"
     ],
     "language": "python",
     "metadata": {},
     "outputs": [
      {
       "output_type": "stream",
       "stream": "stdout",
       "text": [
        "('I', ' ', 'a', 'm', ' ', 'A', 'n', 'k', 'o', 'o', 'r', '!')\n",
        "['I', ' ', 'a', 'm', ' ', 'A', 'n', 'k', 'o', 'o', 'r', '!']\n",
        "I am Ankoor!\n"
       ]
      }
     ],
     "prompt_number": 18
    },
    {
     "cell_type": "markdown",
     "metadata": {},
     "source": [
      "**Rearranging contents of a list**"
     ]
    },
    {
     "cell_type": "code",
     "collapsed": false,
     "input": [
      "words = ['I', 'NLP', 'am', 'today', 'learning']\n",
      "words = words[0], words[2], words[4], words[3], words[1]\n",
      "words"
     ],
     "language": "python",
     "metadata": {},
     "outputs": [
      {
       "metadata": {},
       "output_type": "pyout",
       "prompt_number": 19,
       "text": [
        "('I', 'am', 'learning', 'today', 'NLP')"
       ]
      }
     ],
     "prompt_number": 19
    },
    {
     "cell_type": "markdown",
     "metadata": {},
     "source": [
      "**<font color = 'blue'>zip( )</font>** - \"zip\" together items of two or more sequences into a list of tuples  \n",
      "**<font color = 'blue'>enumerate(s)</font>** - Returns pairs consisting of an index and the item at the index, given a sequence \"s\""
     ]
    },
    {
     "cell_type": "code",
     "collapsed": false,
     "input": [
      "words = ['I', 'turned', 'off', 'the', 'faucet']\n",
      "tags = ['noun', 'verg', 'prep', 'det', 'noun']\n",
      "print zip(tags, words)\n",
      "print list(enumerate(words))"
     ],
     "language": "python",
     "metadata": {},
     "outputs": [
      {
       "output_type": "stream",
       "stream": "stdout",
       "text": [
        "[('noun', 'I'), ('verg', 'turned'), ('prep', 'off'), ('det', 'the'), ('noun', 'faucet')]\n",
        "[(0, 'I'), (1, 'turned'), (2, 'off'), (3, 'the'), (4, 'faucet')]\n"
       ]
      }
     ],
     "prompt_number": 21
    },
    {
     "cell_type": "raw",
     "metadata": {},
     "source": [
      "If you ever see a result like <zip object at 0x10d005448> when you expect to see a sequence, you can force the object to be evaluated just by putting it in a context that expects a sequence, like list(x), or for item in x"
     ]
    },
    {
     "cell_type": "code",
     "collapsed": false,
     "input": [
      "words = 'I turned off the lights'.split()\n",
      "wordlens = [(len(word), word) for word in words]\n",
      "print wordlens\n",
      "wordlens.sort()\n",
      "print wordlens"
     ],
     "language": "python",
     "metadata": {},
     "outputs": [
      {
       "output_type": "stream",
       "stream": "stdout",
       "text": [
        "[(1, 'I'), (6, 'turned'), (3, 'off'), (3, 'the'), (6, 'lights')]\n",
        "[(1, 'I'), (3, 'off'), (3, 'the'), (6, 'lights'), (6, 'turned')]\n"
       ]
      }
     ],
     "prompt_number": 31
    },
    {
     "cell_type": "markdown",
     "metadata": {},
     "source": [
      "**<font color = 'blue'>_</font>** - Used to indicate that its value will not be used."
     ]
    },
    {
     "cell_type": "code",
     "collapsed": false,
     "input": [
      "word = ['Apple', 'Banana', 'Orange']\n",
      "for (_, w) in enumerate(word):\n",
      "    print w"
     ],
     "language": "python",
     "metadata": {},
     "outputs": [
      {
       "output_type": "stream",
       "stream": "stdout",
       "text": [
        "Apple\n",
        "Banana\n",
        "Orange\n"
       ]
      }
     ],
     "prompt_number": 32
    },
    {
     "cell_type": "markdown",
     "metadata": {},
     "source": [
      "Lists are mutable i.e lists can be modified. Tuples are immutable i.e. tuples can not be modified"
     ]
    },
    {
     "cell_type": "code",
     "collapsed": false,
     "input": [
      "text = '''\"Night King was the Commander of the Night's watch some 8000 years ago.\"'''\n",
      "print [w for w in nltk.word_tokenize(text)][:8]\n",
      "print [w.lower() for w in nltk.word_tokenize(text)][:8]"
     ],
     "language": "python",
     "metadata": {},
     "outputs": [
      {
       "output_type": "stream",
       "stream": "stdout",
       "text": [
        "['``', 'Night', 'King', 'was', 'the', 'Commander', 'of', 'the']\n",
        "['``', 'night', 'king', 'was', 'the', 'commander', 'of', 'the']\n",
        "['``', 'NIGHT', 'KING', 'WAS', 'THE', 'COMMANDER', 'OF', 'THE']\n"
       ]
      }
     ],
     "prompt_number": 33
    },
    {
     "cell_type": "markdown",
     "metadata": {},
     "source": [
      "####Generator Expressions"
     ]
    },
    {
     "cell_type": "code",
     "collapsed": false,
     "input": [
      "max([w.lower() for w in nltk.word_tokenize(text)])"
     ],
     "language": "python",
     "metadata": {},
     "outputs": [
      {
       "metadata": {},
       "output_type": "pyout",
       "prompt_number": 39,
       "text": [
        "'years'"
       ]
      }
     ],
     "prompt_number": 39
    },
    {
     "cell_type": "code",
     "collapsed": false,
     "input": [
      "max(w.lower() for w in nltk.word_tokenize(text))"
     ],
     "language": "python",
     "metadata": {},
     "outputs": [
      {
       "metadata": {},
       "output_type": "pyout",
       "prompt_number": 40,
       "text": [
        "'years'"
       ]
      }
     ],
     "prompt_number": 40
    },
    {
     "cell_type": "markdown",
     "metadata": {},
     "source": [
      "This is generator expression: More efficient than max([ ]) calculation"
     ]
    },
    {
     "cell_type": "markdown",
     "metadata": {},
     "source": [
      "**Python Style Guide:** http://www.python.org/dev/peps/pep-0008/"
     ]
    },
    {
     "cell_type": "markdown",
     "metadata": {},
     "source": [
      "**\\** - Add backslash to break a line"
     ]
    },
    {
     "cell_type": "code",
     "collapsed": false,
     "input": [
      "sent = ['The', 'dog', 'gave', 'John', 'the', \\\n",
      "        'newspaper']\n",
      "print len(sent)\n",
      "n = 3\n",
      "print [sent[i:i+n] for i in range(len(sent)-n+1)]"
     ],
     "language": "python",
     "metadata": {},
     "outputs": [
      {
       "output_type": "stream",
       "stream": "stdout",
       "text": [
        "6\n",
        "[['The', 'dog', 'gave'], ['dog', 'gave', 'John'], ['gave', 'John', 'the'], ['John', 'the', 'newspaper']]\n"
       ]
      }
     ],
     "prompt_number": 63
    },
    {
     "cell_type": "markdown",
     "metadata": {},
     "source": [
      "**<font color = 'blue'>%%</font>** - To print % using formatting"
     ]
    },
    {
     "cell_type": "code",
     "collapsed": false,
     "input": [
      "Score = 91.8721\n",
      "print 'My score is: %2.1f%%' % Score "
     ],
     "language": "python",
     "metadata": {},
     "outputs": [
      {
       "output_type": "stream",
       "stream": "stdout",
       "text": [
        "My score is: 91.9%\n"
       ]
      }
     ],
     "prompt_number": 60
    },
    {
     "cell_type": "markdown",
     "metadata": {},
     "source": [
      "**Nested List Comprehension** - Example to build an array with m rows and n columns, where each cell is a set"
     ]
    },
    {
     "cell_type": "code",
     "collapsed": false,
     "input": [
      "m, n = 3, 4\n",
      "array = [[set() for i in range(n)] for j in range(m)]\n",
      "array"
     ],
     "language": "python",
     "metadata": {},
     "outputs": [
      {
       "metadata": {},
       "output_type": "pyout",
       "prompt_number": 66,
       "text": [
        "[[set(), set(), set(), set()],\n",
        " [set(), set(), set(), set()],\n",
        " [set(), set(), set(), set()]]"
       ]
      }
     ],
     "prompt_number": 66
    },
    {
     "cell_type": "markdown",
     "metadata": {},
     "source": [
      "**Functions as Arguments**"
     ]
    },
    {
     "cell_type": "code",
     "collapsed": false,
     "input": [
      "sent = ['Take', 'care', 'of', 'friend']\n",
      "def extract_property(prop):\n",
      "    return [prop(word) for word in sent]\n",
      "\n",
      "extract_property(len)"
     ],
     "language": "python",
     "metadata": {},
     "outputs": [
      {
       "metadata": {},
       "output_type": "pyout",
       "prompt_number": 79,
       "text": [
        "[4, 4, 2, 6]"
       ]
      }
     ],
     "prompt_number": 79
    },
    {
     "cell_type": "code",
     "collapsed": false,
     "input": [
      "def last_letter(word):\n",
      "    return word[-1]\n",
      "\n",
      "extract_property(last_letter)"
     ],
     "language": "python",
     "metadata": {},
     "outputs": [
      {
       "metadata": {},
       "output_type": "pyout",
       "prompt_number": 80,
       "text": [
        "['e', 'e', 'f', 'd']"
       ]
      }
     ],
     "prompt_number": 80
    },
    {
     "cell_type": "markdown",
     "metadata": {},
     "source": [
      "**<font color = 'blue'>Lambda Expressions</font>**"
     ]
    },
    {
     "cell_type": "code",
     "collapsed": false,
     "input": [
      "sent = ['Take', 'care', 'of', 'friend']\n",
      "sorted(sent, lambda x, y: cmp(len(x), len(y))) # cmp() - Comparison function"
     ],
     "language": "python",
     "metadata": {},
     "outputs": [
      {
       "metadata": {},
       "output_type": "pyout",
       "prompt_number": 86,
       "text": [
        "['of', 'Take', 'care', 'friend']"
       ]
      }
     ],
     "prompt_number": 86
    },
    {
     "cell_type": "markdown",
     "metadata": {},
     "source": [
      "**<font color = 'blue'>yield</font>** **Statement** - Avoids initializing an empty list for storage"
     ]
    },
    {
     "cell_type": "code",
     "collapsed": false,
     "input": [
      "sent = ['Take', 'care', 'of', 'friend']\n",
      "def check(seq):\n",
      "    for s in seq:\n",
      "        if len(s) > 3:\n",
      "            yield s\n",
      "            \n",
      "print list(check(sent))"
     ],
     "language": "python",
     "metadata": {},
     "outputs": [
      {
       "output_type": "stream",
       "stream": "stdout",
       "text": [
        "['Take', 'care', 'friend']\n"
       ]
      }
     ],
     "prompt_number": 90
    },
    {
     "cell_type": "markdown",
     "metadata": {},
     "source": [
      "**<font color = 'blue'>map(function, sequence)</font>** **Statement** - Applies a given function to each item in the given sequence"
     ]
    },
    {
     "cell_type": "code",
     "collapsed": false,
     "input": [
      "sent = ['This', 'is', 'Sparta', '!!!!!!!!!!']\n",
      "map(len, sent)"
     ],
     "language": "python",
     "metadata": {},
     "outputs": [
      {
       "metadata": {},
       "output_type": "pyout",
       "prompt_number": 100,
       "text": [
        "[4, 2, 6, 10]"
       ]
      }
     ],
     "prompt_number": 100
    },
    {
     "cell_type": "markdown",
     "metadata": {},
     "source": [
      "**Arguments: *args** - Parameters need to be in order. **Keyword Arguments: \\*\\*kwargs** - Parameters can be specified in any order and can be omitted, and even assign them a default value. e.g. num = 3"
     ]
    },
    {
     "cell_type": "code",
     "collapsed": false,
     "input": [
      "def generic(*args, **kwargs):\n",
      "    print args\n",
      "    print kwargs\n",
      "    \n",
      "generic(1, \"Africa\", monty = \"Python\")"
     ],
     "language": "python",
     "metadata": {},
     "outputs": [
      {
       "output_type": "stream",
       "stream": "stdout",
       "text": [
        "(1, 'Africa')\n",
        "{'monty': 'Python'}\n"
       ]
      }
     ],
     "prompt_number": 104
    },
    {
     "cell_type": "markdown",
     "metadata": {},
     "source": [
      "**verbose** - If a ```verbose``` flag is set, progress is reported"
     ]
    },
    {
     "cell_type": "code",
     "collapsed": false,
     "input": [
      "def test(seq, verbose = True):\n",
      "    if verbose: print \"Read in %d items\" % len(seq)\n",
      "    for s in seq:\n",
      "        yield len(s)\n",
      "            \n",
      "list(test(sent))"
     ],
     "language": "python",
     "metadata": {},
     "outputs": [
      {
       "output_type": "stream",
       "stream": "stdout",
       "text": [
        "Read in 4 items\n"
       ]
      },
      {
       "metadata": {},
       "output_type": "pyout",
       "prompt_number": 108,
       "text": [
        "[4, 4, 2, 6]"
       ]
      }
     ],
     "prompt_number": 108
    },
    {
     "cell_type": "markdown",
     "metadata": {},
     "source": [
      "**moduleName.\\_\\_file\\_\\_** - Locate code for any NLTK module on your system"
     ]
    },
    {
     "cell_type": "code",
     "collapsed": false,
     "input": [
      "nltk.metrics.distance.__file__"
     ],
     "language": "python",
     "metadata": {},
     "outputs": [
      {
       "metadata": {},
       "output_type": "pyout",
       "prompt_number": 110,
       "text": [
        "'/Applications/anaconda/lib/python2.7/site-packages/nltk/metrics/distance.pyc'"
       ]
      }
     ],
     "prompt_number": 110
    },
    {
     "cell_type": "markdown",
     "metadata": {},
     "source": [
      "**<font color = 'blue'>assert Stateent</font>** - Raises AssertionError  \n",
      "**<font color = 'blue'>doctest</font>** - Regression Testing"
     ]
    },
    {
     "cell_type": "markdown",
     "metadata": {},
     "source": [
      "**<font color = 'blue'>Recursion</font>** - A function that calls itself to solve one or more easier instances of the same problem"
     ]
    },
    {
     "cell_type": "code",
     "collapsed": false,
     "input": [
      "# Non-Recursive\n",
      "def factorial(n):\n",
      "    result = 1\n",
      "    for i in range(n):\n",
      "        result *= (i+1)\n",
      "    return result\n",
      "\n",
      "factorial(5)"
     ],
     "language": "python",
     "metadata": {},
     "outputs": [
      {
       "metadata": {},
       "output_type": "pyout",
       "prompt_number": 112,
       "text": [
        "120"
       ]
      }
     ],
     "prompt_number": 112
    },
    {
     "cell_type": "code",
     "collapsed": false,
     "input": [
      "# Recursive\n",
      "def factorialR(n):\n",
      "    if n == 1:\n",
      "        return 1\n",
      "    else:\n",
      "        return n * factorialR(n-1)\n",
      "\n",
      "factorial(5)"
     ],
     "language": "python",
     "metadata": {},
     "outputs": [
      {
       "metadata": {},
       "output_type": "pyout",
       "prompt_number": 113,
       "text": [
        "120"
       ]
      }
     ],
     "prompt_number": 113
    },
    {
     "cell_type": "markdown",
     "metadata": {},
     "source": [
      "**memoize** - Python decorator, memoization process stores the result of each previous call to function along with the parameters that were used"
     ]
    },
    {
     "cell_type": "markdown",
     "metadata": {},
     "source": [
      "**NetworkX** - Package for defining and manipulating structures consisting of nodes and edges."
     ]
    },
    {
     "cell_type": "code",
     "collapsed": false,
     "input": [],
     "language": "python",
     "metadata": {},
     "outputs": []
    }
   ],
   "metadata": {}
  }
 ]
}