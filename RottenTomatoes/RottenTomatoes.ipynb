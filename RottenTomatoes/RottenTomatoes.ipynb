{
 "metadata": {
  "name": "",
  "signature": "sha256:1e700c3f5159e0b8887e8831aaddbaef3ec1b0990f6d9c454b5982d059e587af"
 },
 "nbformat": 3,
 "nbformat_minor": 0,
 "worksheets": [
  {
   "cells": [
    {
     "cell_type": "markdown",
     "metadata": {},
     "source": [
      "## Sentiment Analysis on Rotten Tomatoes Movie Reviews"
     ]
    },
    {
     "cell_type": "markdown",
     "metadata": {},
     "source": [
      "#### Data from Kaggle's competition: https://www.kaggle.com/c/sentiment-analysis-on-movie-reviews"
     ]
    },
    {
     "cell_type": "code",
     "collapsed": false,
     "input": [
      "ls"
     ],
     "language": "python",
     "metadata": {},
     "outputs": [
      {
       "output_type": "stream",
       "stream": "stdout",
       "text": [
        "RottenTomatoes.ipynb  test.tsv              train.tsv\r\n"
       ]
      }
     ],
     "prompt_number": 1
    },
    {
     "cell_type": "code",
     "collapsed": false,
     "input": [
      "# Import necessary libraries\n",
      "import pandas as pd\n",
      "import numpy as np\n",
      "import matplotlib.pyplot as plt"
     ],
     "language": "python",
     "metadata": {},
     "outputs": [],
     "prompt_number": 2
    },
    {
     "cell_type": "code",
     "collapsed": false,
     "input": [
      "# Reading training and testing data\n",
      "train = pd.read_csv('train.tsv', sep = '\\t')\n",
      "test = pd.read_csv('test.tsv', sep = '\\t')"
     ],
     "language": "python",
     "metadata": {},
     "outputs": [],
     "prompt_number": 3
    },
    {
     "cell_type": "code",
     "collapsed": false,
     "input": [
      "# View training data\n",
      "train.head()"
     ],
     "language": "python",
     "metadata": {},
     "outputs": [
      {
       "html": [
        "<div style=\"max-height:1000px;max-width:1500px;overflow:auto;\">\n",
        "<table border=\"1\" class=\"dataframe\">\n",
        "  <thead>\n",
        "    <tr style=\"text-align: right;\">\n",
        "      <th></th>\n",
        "      <th>PhraseId</th>\n",
        "      <th>SentenceId</th>\n",
        "      <th>Phrase</th>\n",
        "      <th>Sentiment</th>\n",
        "    </tr>\n",
        "  </thead>\n",
        "  <tbody>\n",
        "    <tr>\n",
        "      <th>0</th>\n",
        "      <td> 1</td>\n",
        "      <td> 1</td>\n",
        "      <td> A series of escapades demonstrating the adage ...</td>\n",
        "      <td> 1</td>\n",
        "    </tr>\n",
        "    <tr>\n",
        "      <th>1</th>\n",
        "      <td> 2</td>\n",
        "      <td> 1</td>\n",
        "      <td> A series of escapades demonstrating the adage ...</td>\n",
        "      <td> 2</td>\n",
        "    </tr>\n",
        "    <tr>\n",
        "      <th>2</th>\n",
        "      <td> 3</td>\n",
        "      <td> 1</td>\n",
        "      <td>                                          A series</td>\n",
        "      <td> 2</td>\n",
        "    </tr>\n",
        "    <tr>\n",
        "      <th>3</th>\n",
        "      <td> 4</td>\n",
        "      <td> 1</td>\n",
        "      <td>                                                 A</td>\n",
        "      <td> 2</td>\n",
        "    </tr>\n",
        "    <tr>\n",
        "      <th>4</th>\n",
        "      <td> 5</td>\n",
        "      <td> 1</td>\n",
        "      <td>                                            series</td>\n",
        "      <td> 2</td>\n",
        "    </tr>\n",
        "  </tbody>\n",
        "</table>\n",
        "</div>"
       ],
       "metadata": {},
       "output_type": "pyout",
       "prompt_number": 4,
       "text": [
        "   PhraseId  SentenceId                                             Phrase  \\\n",
        "0         1           1  A series of escapades demonstrating the adage ...   \n",
        "1         2           1  A series of escapades demonstrating the adage ...   \n",
        "2         3           1                                           A series   \n",
        "3         4           1                                                  A   \n",
        "4         5           1                                             series   \n",
        "\n",
        "   Sentiment  \n",
        "0          1  \n",
        "1          2  \n",
        "2          2  \n",
        "3          2  \n",
        "4          2  "
       ]
      }
     ],
     "prompt_number": 4
    },
    {
     "cell_type": "code",
     "collapsed": false,
     "input": [
      "# View testing data\n",
      "test.head()"
     ],
     "language": "python",
     "metadata": {},
     "outputs": [
      {
       "html": [
        "<div style=\"max-height:1000px;max-width:1500px;overflow:auto;\">\n",
        "<table border=\"1\" class=\"dataframe\">\n",
        "  <thead>\n",
        "    <tr style=\"text-align: right;\">\n",
        "      <th></th>\n",
        "      <th>PhraseId</th>\n",
        "      <th>SentenceId</th>\n",
        "      <th>Phrase</th>\n",
        "    </tr>\n",
        "  </thead>\n",
        "  <tbody>\n",
        "    <tr>\n",
        "      <th>0</th>\n",
        "      <td> 156061</td>\n",
        "      <td> 8545</td>\n",
        "      <td> An intermittently pleasing but mostly routine ...</td>\n",
        "    </tr>\n",
        "    <tr>\n",
        "      <th>1</th>\n",
        "      <td> 156062</td>\n",
        "      <td> 8545</td>\n",
        "      <td> An intermittently pleasing but mostly routine ...</td>\n",
        "    </tr>\n",
        "    <tr>\n",
        "      <th>2</th>\n",
        "      <td> 156063</td>\n",
        "      <td> 8545</td>\n",
        "      <td>                                                An</td>\n",
        "    </tr>\n",
        "    <tr>\n",
        "      <th>3</th>\n",
        "      <td> 156064</td>\n",
        "      <td> 8545</td>\n",
        "      <td> intermittently pleasing but mostly routine effort</td>\n",
        "    </tr>\n",
        "    <tr>\n",
        "      <th>4</th>\n",
        "      <td> 156065</td>\n",
        "      <td> 8545</td>\n",
        "      <td>        intermittently pleasing but mostly routine</td>\n",
        "    </tr>\n",
        "  </tbody>\n",
        "</table>\n",
        "</div>"
       ],
       "metadata": {},
       "output_type": "pyout",
       "prompt_number": 5,
       "text": [
        "   PhraseId  SentenceId                                             Phrase\n",
        "0    156061        8545  An intermittently pleasing but mostly routine ...\n",
        "1    156062        8545  An intermittently pleasing but mostly routine ...\n",
        "2    156063        8545                                                 An\n",
        "3    156064        8545  intermittently pleasing but mostly routine effort\n",
        "4    156065        8545         intermittently pleasing but mostly routine"
       ]
      }
     ],
     "prompt_number": 5
    },
    {
     "cell_type": "code",
     "collapsed": false,
     "input": [
      "# special IPython command to prepare the notebook for matplotlib\n",
      "%matplotlib inline "
     ],
     "language": "python",
     "metadata": {},
     "outputs": [],
     "prompt_number": 6
    },
    {
     "cell_type": "code",
     "collapsed": false,
     "input": [
      "# Unique sentiment classes\n",
      "train['Sentiment'].unique()"
     ],
     "language": "python",
     "metadata": {},
     "outputs": [
      {
       "metadata": {},
       "output_type": "pyout",
       "prompt_number": 7,
       "text": [
        "array([1, 2, 3, 4, 0])"
       ]
      }
     ],
     "prompt_number": 7
    },
    {
     "cell_type": "code",
     "collapsed": false,
     "input": [
      "train['Sentiment'].hist(color = 'blue', alpha = 0.5)"
     ],
     "language": "python",
     "metadata": {},
     "outputs": [
      {
       "metadata": {},
       "output_type": "pyout",
       "prompt_number": 8,
       "text": [
        "<matplotlib.axes._subplots.AxesSubplot at 0x107cbca10>"
       ]
      },
      {
       "metadata": {},
       "output_type": "display_data",
       "png": "[encoded data removed]",
       "text": [
        "<matplotlib.figure.Figure at 0x107cbc350>"
       ]
      }
     ],
     "prompt_number": 8
    },
    {
     "cell_type": "code",
     "collapsed": false,
     "input": [
      "# Tye of data\n",
      "type(train)"
     ],
     "language": "python",
     "metadata": {},
     "outputs": [
      {
       "metadata": {},
       "output_type": "pyout",
       "prompt_number": 9,
       "text": [
        "pandas.core.frame.DataFrame"
       ]
      }
     ],
     "prompt_number": 9
    },
    {
     "cell_type": "code",
     "collapsed": false,
     "input": [
      "# Summary (Works only for numeric data)\n",
      "train.describe()"
     ],
     "language": "python",
     "metadata": {},
     "outputs": [
      {
       "html": [
        "<div style=\"max-height:1000px;max-width:1500px;overflow:auto;\">\n",
        "<table border=\"1\" class=\"dataframe\">\n",
        "  <thead>\n",
        "    <tr style=\"text-align: right;\">\n",
        "      <th></th>\n",
        "      <th>PhraseId</th>\n",
        "      <th>SentenceId</th>\n",
        "      <th>Sentiment</th>\n",
        "    </tr>\n",
        "  </thead>\n",
        "  <tbody>\n",
        "    <tr>\n",
        "      <th>count</th>\n",
        "      <td> 156060.000000</td>\n",
        "      <td> 156060.000000</td>\n",
        "      <td> 156060.000000</td>\n",
        "    </tr>\n",
        "    <tr>\n",
        "      <th>mean</th>\n",
        "      <td>  78030.500000</td>\n",
        "      <td>   4079.732744</td>\n",
        "      <td>      2.063578</td>\n",
        "    </tr>\n",
        "    <tr>\n",
        "      <th>std</th>\n",
        "      <td>  45050.785842</td>\n",
        "      <td>   2502.764394</td>\n",
        "      <td>      0.893832</td>\n",
        "    </tr>\n",
        "    <tr>\n",
        "      <th>min</th>\n",
        "      <td>      1.000000</td>\n",
        "      <td>      1.000000</td>\n",
        "      <td>      0.000000</td>\n",
        "    </tr>\n",
        "    <tr>\n",
        "      <th>25%</th>\n",
        "      <td>  39015.750000</td>\n",
        "      <td>   1861.750000</td>\n",
        "      <td>      2.000000</td>\n",
        "    </tr>\n",
        "    <tr>\n",
        "      <th>50%</th>\n",
        "      <td>  78030.500000</td>\n",
        "      <td>   4017.000000</td>\n",
        "      <td>      2.000000</td>\n",
        "    </tr>\n",
        "    <tr>\n",
        "      <th>75%</th>\n",
        "      <td> 117045.250000</td>\n",
        "      <td>   6244.000000</td>\n",
        "      <td>      3.000000</td>\n",
        "    </tr>\n",
        "    <tr>\n",
        "      <th>max</th>\n",
        "      <td> 156060.000000</td>\n",
        "      <td>   8544.000000</td>\n",
        "      <td>      4.000000</td>\n",
        "    </tr>\n",
        "  </tbody>\n",
        "</table>\n",
        "</div>"
       ],
       "metadata": {},
       "output_type": "pyout",
       "prompt_number": 10,
       "text": [
        "            PhraseId     SentenceId      Sentiment\n",
        "count  156060.000000  156060.000000  156060.000000\n",
        "mean    78030.500000    4079.732744       2.063578\n",
        "std     45050.785842    2502.764394       0.893832\n",
        "min         1.000000       1.000000       0.000000\n",
        "25%     39015.750000    1861.750000       2.000000\n",
        "50%     78030.500000    4017.000000       2.000000\n",
        "75%    117045.250000    6244.000000       3.000000\n",
        "max    156060.000000    8544.000000       4.000000"
       ]
      }
     ],
     "prompt_number": 10
    },
    {
     "cell_type": "code",
     "collapsed": false,
     "input": [
      "## Extracting features from the text. i.e. Convert text content into numerical feature vector\n",
      "# Bag of words\n",
      "# Tokenizing text with scikit-learn\n",
      "from sklearn.feature_extraction.text import CountVectorizer\n",
      "count_vector = CountVectorizer()"
     ],
     "language": "python",
     "metadata": {},
     "outputs": [],
     "prompt_number": 11
    },
    {
     "cell_type": "code",
     "collapsed": false,
     "input": [
      "x_train_counts = count_vector.fit_transform(train['Phrase'])"
     ],
     "language": "python",
     "metadata": {},
     "outputs": [],
     "prompt_number": 12
    },
    {
     "cell_type": "code",
     "collapsed": false,
     "input": [
      "# Dimension of the vector\n",
      "x_train_counts.shape"
     ],
     "language": "python",
     "metadata": {},
     "outputs": [
      {
       "metadata": {},
       "output_type": "pyout",
       "prompt_number": 13,
       "text": [
        "(156060, 15240)"
       ]
      }
     ],
     "prompt_number": 13
    },
    {
     "cell_type": "code",
     "collapsed": false,
     "input": [
      "# Get index of some common words/N-grams/consequecitive characters\n",
      "count_vector.vocabulary_.get(u'movie')"
     ],
     "language": "python",
     "metadata": {},
     "outputs": [
      {
       "metadata": {},
       "output_type": "pyout",
       "prompt_number": 14,
       "text": [
        "8791"
       ]
      }
     ],
     "prompt_number": 14
    },
    {
     "cell_type": "code",
     "collapsed": false,
     "input": [
      "# Get feature names\n",
      "count_vector.get_feature_names()[:5]"
     ],
     "language": "python",
     "metadata": {},
     "outputs": [
      {
       "metadata": {},
       "output_type": "pyout",
       "prompt_number": 15,
       "text": [
        "[u'000', u'10', u'100', u'101', u'102']"
       ]
      }
     ],
     "prompt_number": 15
    },
    {
     "cell_type": "code",
     "collapsed": false,
     "input": [
      "## From occurrences to frequencies: Term Frequencies\n",
      "# Downscaling: Term Frequency times Inverse Document Frequency(tf-idf)\n",
      "from sklearn.feature_extraction.text import TfidfTransformer"
     ],
     "language": "python",
     "metadata": {},
     "outputs": [],
     "prompt_number": 16
    },
    {
     "cell_type": "code",
     "collapsed": false,
     "input": [
      "## Term Frequencies (tf)\n",
      "\n",
      "# Use fit() method to fit estimator to the data\n",
      "tf_transformer = TfidfTransformer(use_idf = False).fit(x_train_counts)\n",
      "\n",
      "# Use transform() method to transform count-matrix to tf representation\n",
      "x_train_tf = tf_transformer.transform(x_train_counts)\n",
      "x_train_tf.shape"
     ],
     "language": "python",
     "metadata": {},
     "outputs": [
      {
       "metadata": {},
       "output_type": "pyout",
       "prompt_number": 17,
       "text": [
        "(156060, 15240)"
       ]
      }
     ],
     "prompt_number": 17
    },
    {
     "cell_type": "code",
     "collapsed": false,
     "input": [
      "## Term Frequency times Inverse Document Frequency (tf-idf)\n",
      "\n",
      "tfidf_transformer = TfidfTransformer()\n",
      "\n",
      "# Using fit_transform() method\n",
      "x_train_tfidf = tfidf_transformer.fit_transform(x_train_counts)\n",
      "x_train_tfidf.shape"
     ],
     "language": "python",
     "metadata": {},
     "outputs": [
      {
       "metadata": {},
       "output_type": "pyout",
       "prompt_number": 18,
       "text": [
        "(156060, 15240)"
       ]
      }
     ],
     "prompt_number": 18
    },
    {
     "cell_type": "code",
     "collapsed": false,
     "input": [
      "## Training a classifier to predict sentiment of a phrase\n",
      "# Naive Bayes Classifier\n",
      "from sklearn.naive_bayes import MultinomialNB\n",
      "\n",
      "clf = MultinomialNB().fit(x_train_tfidf, train['Sentiment'])"
     ],
     "language": "python",
     "metadata": {},
     "outputs": [],
     "prompt_number": 19
    },
    {
     "cell_type": "code",
     "collapsed": false,
     "input": [
      "# Prediction on test\n",
      "x_test_counts = count_vector.transform(test['Phrase'])\n",
      "x_test_tfidf = tfidf_transformer.transform(x_test_counts)"
     ],
     "language": "python",
     "metadata": {},
     "outputs": [],
     "prompt_number": 20
    },
    {
     "cell_type": "code",
     "collapsed": false,
     "input": [
      "predicted = clf.predict(x_test_tfidf)"
     ],
     "language": "python",
     "metadata": {},
     "outputs": [],
     "prompt_number": 22
    },
    {
     "cell_type": "code",
     "collapsed": false,
     "input": [
      "print predicted[:5]"
     ],
     "language": "python",
     "metadata": {},
     "outputs": [
      {
       "output_type": "stream",
       "stream": "stdout",
       "text": [
        "[3 3 2 3 3]\n"
       ]
      }
     ],
     "prompt_number": 23
    },
    {
     "cell_type": "code",
     "collapsed": false,
     "input": [
      "import csv\n",
      "with open('Rotten_Sentiment.csv', 'w') as csvfile:\n",
      "    csvfile.write('PhraseId,Sentiment\\n')\n",
      "    for i, j in zip(test['PhraseId'], predicted):\n",
      "        csvfile.write('{},{}\\n'.format(i, j))"
     ],
     "language": "python",
     "metadata": {},
     "outputs": [],
     "prompt_number": 24
    },
    {
     "cell_type": "code",
     "collapsed": false,
     "input": [
      "help(CountVectorizer)"
     ],
     "language": "python",
     "metadata": {},
     "outputs": [
      {
       "output_type": "stream",
       "stream": "stdout",
       "text": [
        "Help on class CountVectorizer in module sklearn.feature_extraction.text:\n",
        "\n",
        "class CountVectorizer(sklearn.base.BaseEstimator, VectorizerMixin)\n",
        " |  Convert a collection of text documents to a matrix of token counts\n",
        " |  \n",
        " |  This implementation produces a sparse representation of the counts using\n",
        " |  scipy.sparse.coo_matrix.\n",
        " |  \n",
        " |  If you do not provide an a-priori dictionary and you do not use an analyzer\n",
        " |  that does some kind of feature selection then the number of features will\n",
        " |  be equal to the vocabulary size found by analyzing the data.\n",
        " |  \n",
        " |  Parameters\n",
        " |  ----------\n",
        " |  input : string {'filename', 'file', 'content'}\n",
        " |      If 'filename', the sequence passed as an argument to fit is\n",
        " |      expected to be a list of filenames that need reading to fetch\n",
        " |      the raw content to analyze.\n",
        " |  \n",
        " |      If 'file', the sequence items must have a 'read' method (file-like\n",
        " |      object) that is called to fetch the bytes in memory.\n",
        " |  \n",
        " |      Otherwise the input is expected to be the sequence strings or\n",
        " |      bytes items are expected to be analyzed directly.\n",
        " |  \n",
        " |  encoding : string, 'utf-8' by default.\n",
        " |      If bytes or files are given to analyze, this encoding is used to\n",
        " |      decode.\n",
        " |  \n",
        " |  decode_error : {'strict', 'ignore', 'replace'}\n",
        " |      Instruction on what to do if a byte sequence is given to analyze that\n",
        " |      contains characters not of the given `encoding`. By default, it is\n",
        " |      'strict', meaning that a UnicodeDecodeError will be raised. Other\n",
        " |      values are 'ignore' and 'replace'.\n",
        " |  \n",
        " |  strip_accents : {'ascii', 'unicode', None}\n",
        " |      Remove accents during the preprocessing step.\n",
        " |      'ascii' is a fast method that only works on characters that have\n",
        " |      an direct ASCII mapping.\n",
        " |      'unicode' is a slightly slower method that works on any characters.\n",
        " |      None (default) does nothing.\n",
        " |  \n",
        " |  analyzer : string, {'word', 'char', 'char_wb'} or callable\n",
        " |      Whether the feature should be made of word or character n-grams.\n",
        " |      Option 'char_wb' creates character n-grams only from text inside\n",
        " |      word boundaries.\n",
        " |  \n",
        " |      If a callable is passed it is used to extract the sequence of features\n",
        " |      out of the raw, unprocessed input.\n",
        " |  \n",
        " |  preprocessor : callable or None (default)\n",
        " |      Override the preprocessing (string transformation) stage while\n",
        " |      preserving the tokenizing and n-grams generation steps.\n",
        " |  \n",
        " |  tokenizer : callable or None (default)\n",
        " |      Override the string tokenization step while preserving the\n",
        " |      preprocessing and n-grams generation steps.\n",
        " |  \n",
        " |  ngram_range : tuple (min_n, max_n)\n",
        " |      The lower and upper boundary of the range of n-values for different\n",
        " |      n-grams to be extracted. All values of n such that min_n <= n <= max_n\n",
        " |      will be used.\n",
        " |  \n",
        " |  stop_words : string {'english'}, list, or None (default)\n",
        " |      If 'english', a built-in stop word list for English is used.\n",
        " |  \n",
        " |      If a list, that list is assumed to contain stop words, all of which\n",
        " |      will be removed from the resulting tokens.\n",
        " |  \n",
        " |      If None, no stop words will be used. max_df can be set to a value\n",
        " |      in the range [0.7, 1.0) to automatically detect and filter stop\n",
        " |      words based on intra corpus document frequency of terms.\n",
        " |  \n",
        " |  lowercase : boolean, True by default\n",
        " |      Convert all characters to lowercase before tokenizing.\n",
        " |  \n",
        " |  token_pattern : string\n",
        " |      Regular expression denoting what constitutes a \"token\", only used\n",
        " |      if `tokenize == 'word'`. The default regexp select tokens of 2\n",
        " |      or more alphanumeric characters (punctuation is completely ignored\n",
        " |      and always treated as a token separator).\n",
        " |  \n",
        " |  max_df : float in range [0.0, 1.0] or int, optional, 1.0 by default\n",
        " |      When building the vocabulary ignore terms that have a document\n",
        " |      frequency strictly higher than the given threshold (corpus-specific\n",
        " |      stop words).\n",
        " |      If float, the parameter represents a proportion of documents, integer\n",
        " |      absolute counts.\n",
        " |      This parameter is ignored if vocabulary is not None.\n",
        " |  \n",
        " |  min_df : float in range [0.0, 1.0] or int, optional, 1 by default\n",
        " |      When building the vocabulary ignore terms that have a document\n",
        " |      frequency strictly lower than the given threshold. This value is also\n",
        " |      called cut-off in the literature.\n",
        " |      If float, the parameter represents a proportion of documents, integer\n",
        " |      absolute counts.\n",
        " |      This parameter is ignored if vocabulary is not None.\n",
        " |  \n",
        " |  max_features : optional, None by default\n",
        " |      If not None, build a vocabulary that only consider the top\n",
        " |      max_features ordered by term frequency across the corpus.\n",
        " |  \n",
        " |      This parameter is ignored if vocabulary is not None.\n",
        " |  \n",
        " |  vocabulary : Mapping or iterable, optional\n",
        " |      Either a Mapping (e.g., a dict) where keys are terms and values are\n",
        " |      indices in the feature matrix, or an iterable over terms. If not\n",
        " |      given, a vocabulary is determined from the input documents. Indices\n",
        " |      in the mapping should not be repeated and should not have any gap\n",
        " |      between 0 and the largest index.\n",
        " |  \n",
        " |  binary : boolean, False by default.\n",
        " |      If True, all non zero counts are set to 1. This is useful for discrete\n",
        " |      probabilistic models that model binary events rather than integer\n",
        " |      counts.\n",
        " |  \n",
        " |  dtype : type, optional\n",
        " |      Type of the matrix returned by fit_transform() or transform().\n",
        " |  \n",
        " |  Attributes\n",
        " |  ----------\n",
        " |  `vocabulary_` : dict\n",
        " |      A mapping of terms to feature indices.\n",
        " |  \n",
        " |  `stop_words_` : set\n",
        " |      Terms that were ignored because\n",
        " |      they occurred in either too many\n",
        " |      (`max_df`) or in too few (`min_df`) documents.\n",
        " |      This is only available if no vocabulary was given.\n",
        " |  \n",
        " |  See also\n",
        " |  --------\n",
        " |  HashingVectorizer, TfidfVectorizer\n",
        " |  \n",
        " |  Method resolution order:\n",
        " |      CountVectorizer\n",
        " |      sklearn.base.BaseEstimator\n",
        " |      VectorizerMixin\n",
        " |      __builtin__.object\n",
        " |  \n",
        " |  Methods defined here:\n",
        " |  \n",
        " |  __init__(self, input=u'content', encoding=u'utf-8', charset=None, decode_error=u'strict', charset_error=None, strip_accents=None, lowercase=True, preprocessor=None, tokenizer=None, stop_words=None, token_pattern=u'(?u)\\\\b\\\\w\\\\w+\\\\b', ngram_range=(1, 1), analyzer=u'word', max_df=1.0, min_df=1, max_features=None, vocabulary=None, binary=False, dtype=<type 'numpy.int64'>)\n",
        " |  \n",
        " |  fit(self, raw_documents, y=None)\n",
        " |      Learn a vocabulary dictionary of all tokens in the raw documents.\n",
        " |      \n",
        " |      Parameters\n",
        " |      ----------\n",
        " |      raw_documents : iterable\n",
        " |          An iterable which yields either str, unicode or file objects.\n",
        " |      \n",
        " |      Returns\n",
        " |      -------\n",
        " |      self\n",
        " |  \n",
        " |  fit_transform(self, raw_documents, y=None)\n",
        " |      Learn the vocabulary dictionary and return term-document matrix.\n",
        " |      \n",
        " |      This is equivalent to fit followed by transform, but more efficiently\n",
        " |      implemented.\n",
        " |      \n",
        " |      Parameters\n",
        " |      ----------\n",
        " |      raw_documents : iterable\n",
        " |          An iterable which yields either str, unicode or file objects.\n",
        " |      \n",
        " |      Returns\n",
        " |      -------\n",
        " |      X : array, [n_samples, n_features]\n",
        " |          Document-term matrix.\n",
        " |  \n",
        " |  get_feature_names(self)\n",
        " |      Array mapping from feature integer indices to feature name\n",
        " |  \n",
        " |  inverse_transform(self, X)\n",
        " |      Return terms per document with nonzero entries in X.\n",
        " |      \n",
        " |      Parameters\n",
        " |      ----------\n",
        " |      X : {array, sparse matrix}, shape = [n_samples, n_features]\n",
        " |      \n",
        " |      Returns\n",
        " |      -------\n",
        " |      X_inv : list of arrays, len = n_samples\n",
        " |          List of arrays of terms.\n",
        " |  \n",
        " |  transform(self, raw_documents)\n",
        " |      Transform documents to document-term matrix.\n",
        " |      \n",
        " |      Extract token counts out of raw text documents using the vocabulary\n",
        " |      fitted with fit or the one provided to the constructor.\n",
        " |      \n",
        " |      Parameters\n",
        " |      ----------\n",
        " |      raw_documents : iterable\n",
        " |          An iterable which yields either str, unicode or file objects.\n",
        " |      \n",
        " |      Returns\n",
        " |      -------\n",
        " |      X : sparse matrix, [n_samples, n_features]\n",
        " |          Document-term matrix.\n",
        " |  \n",
        " |  ----------------------------------------------------------------------\n",
        " |  Methods inherited from sklearn.base.BaseEstimator:\n",
        " |  \n",
        " |  __repr__(self)\n",
        " |  \n",
        " |  get_params(self, deep=True)\n",
        " |      Get parameters for this estimator.\n",
        " |      \n",
        " |      Parameters\n",
        " |      ----------\n",
        " |      deep: boolean, optional\n",
        " |          If True, will return the parameters for this estimator and\n",
        " |          contained subobjects that are estimators.\n",
        " |      \n",
        " |      Returns\n",
        " |      -------\n",
        " |      params : mapping of string to any\n",
        " |          Parameter names mapped to their values.\n",
        " |  \n",
        " |  set_params(self, **params)\n",
        " |      Set the parameters of this estimator.\n",
        " |      \n",
        " |      The method works on simple estimators as well as on nested objects\n",
        " |      (such as pipelines). The former have parameters of the form\n",
        " |      ``<component>__<parameter>`` so that it's possible to update each\n",
        " |      component of a nested object.\n",
        " |      \n",
        " |      Returns\n",
        " |      -------\n",
        " |      self\n",
        " |  \n",
        " |  ----------------------------------------------------------------------\n",
        " |  Data descriptors inherited from sklearn.base.BaseEstimator:\n",
        " |  \n",
        " |  __dict__\n",
        " |      dictionary for instance variables (if defined)\n",
        " |  \n",
        " |  __weakref__\n",
        " |      list of weak references to the object (if defined)\n",
        " |  \n",
        " |  ----------------------------------------------------------------------\n",
        " |  Methods inherited from VectorizerMixin:\n",
        " |  \n",
        " |  build_analyzer(self)\n",
        " |      Return a callable that handles preprocessing and tokenization\n",
        " |  \n",
        " |  build_preprocessor(self)\n",
        " |      Return a function to preprocess the text before tokenization\n",
        " |  \n",
        " |  build_tokenizer(self)\n",
        " |      Return a function that splits a string into a sequence of tokens\n",
        " |  \n",
        " |  decode(self, doc)\n",
        " |      Decode the input into a string of unicode symbols\n",
        " |      \n",
        " |      The decoding strategy depends on the vectorizer parameters.\n",
        " |  \n",
        " |  get_stop_words(self)\n",
        " |      Build or fetch the effective stop words list\n",
        " |  \n",
        " |  ----------------------------------------------------------------------\n",
        " |  Data descriptors inherited from VectorizerMixin:\n",
        " |  \n",
        " |  fixed_vocabulary\n",
        " |      DEPRECATED: The `fixed_vocabulary` attribute is deprecated and will be removed in 0.18.  Please use `fixed_vocabulary_` instead.\n",
        "\n"
       ]
      }
     ],
     "prompt_number": 25
    },
    {
     "cell_type": "code",
     "collapsed": false,
     "input": [],
     "language": "python",
     "metadata": {},
     "outputs": []
    }
   ],
   "metadata": {}
  }
 ]
}